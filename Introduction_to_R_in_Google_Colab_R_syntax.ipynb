{
  "nbformat": 4,
  "nbformat_minor": 0,
  "metadata": {
    "colab": {
      "provenance": [],
      "toc_visible": true,
      "include_colab_link": true
    },
    "kernelspec": {
      "name": "ir",
      "display_name": "R"
    }
  },
  "cells": [
    {
      "cell_type": "markdown",
      "metadata": {
        "id": "view-in-github",
        "colab_type": "text"
      },
      "source": [
        "<a href=\"https://colab.research.google.com/github/ShoSato-047/R_review/blob/main/Introduction_to_R_in_Google_Colab_R_syntax.ipynb\" target=\"_parent\"><img src=\"https://colab.research.google.com/assets/colab-badge.svg\" alt=\"Open In Colab\"/></a>"
      ]
    },
    {
      "cell_type": "markdown",
      "source": [
        "# Introduction\n",
        "\n",
        "In this notebook I introduce you to R syntax and data objects.  This is code that you can run in base R or R Studio - it doesn't need to be within a Colab environment!  Colab is the *environment*, not the *code*.  "
      ],
      "metadata": {
        "id": "jPQO-p4xo8Bv"
      }
    },
    {
      "cell_type": "markdown",
      "source": [
        "# Using R as calculator\n",
        "At its most basic, you can use R to do anything a calculator can do."
      ],
      "metadata": {
        "id": "Qk72L2MDpap1"
      }
    },
    {
      "cell_type": "code",
      "source": [
        "2+3"
      ],
      "metadata": {
        "id": "4zIgdcglpc2s",
        "colab": {
          "base_uri": "https://localhost:8080/",
          "height": 34
        },
        "outputId": "a58aafeb-8d21-4eb1-966b-ae1464f22c1a"
      },
      "execution_count": null,
      "outputs": [
        {
          "output_type": "display_data",
          "data": {
            "text/html": [
              "5"
            ],
            "text/markdown": "5",
            "text/latex": "5",
            "text/plain": [
              "[1] 5"
            ]
          },
          "metadata": {}
        }
      ]
    },
    {
      "cell_type": "code",
      "source": [
        "log(3)"
      ],
      "metadata": {
        "id": "gsawL-jQph4m",
        "colab": {
          "base_uri": "https://localhost:8080/",
          "height": 34
        },
        "outputId": "81c08294-a0f2-4be5-96fe-f2182b9e6bf1"
      },
      "execution_count": null,
      "outputs": [
        {
          "output_type": "display_data",
          "data": {
            "text/html": [
              "1.09861228866811"
            ],
            "text/markdown": "1.09861228866811",
            "text/latex": "1.09861228866811",
            "text/plain": [
              "[1] 1.098612"
            ]
          },
          "metadata": {}
        }
      ]
    },
    {
      "cell_type": "code",
      "source": [
        "280*3"
      ],
      "metadata": {
        "id": "XiX7nab1pioW",
        "colab": {
          "base_uri": "https://localhost:8080/",
          "height": 34
        },
        "outputId": "0bedc49e-7bf5-47ad-a5b3-dc122dd2ef4f"
      },
      "execution_count": null,
      "outputs": [
        {
          "output_type": "display_data",
          "data": {
            "text/html": [
              "840"
            ],
            "text/markdown": "840",
            "text/latex": "840",
            "text/plain": [
              "[1] 840"
            ]
          },
          "metadata": {}
        }
      ]
    },
    {
      "cell_type": "code",
      "source": [
        "pi/2"
      ],
      "metadata": {
        "colab": {
          "base_uri": "https://localhost:8080/",
          "height": 34
        },
        "id": "ODhFtKY2GrGm",
        "outputId": "c6751145-5354-41c5-9d23-118ecbf1f43c"
      },
      "execution_count": null,
      "outputs": [
        {
          "output_type": "display_data",
          "data": {
            "text/html": [
              "1.5707963267949"
            ],
            "text/markdown": "1.5707963267949",
            "text/latex": "1.5707963267949",
            "text/plain": [
              "[1] 1.570796"
            ]
          },
          "metadata": {}
        }
      ]
    },
    {
      "cell_type": "markdown",
      "source": [
        "# Boolean output\n",
        "\n",
        "If an expression asks a logical question which can evaluate to either TRUE or FALSE, the output is called *Boolean*.  Below are examples of Boolean expressions:"
      ],
      "metadata": {
        "id": "J8wmtpJ4plrU"
      }
    },
    {
      "cell_type": "code",
      "source": [
        "# Interpreted: \"is 5 greater than 2?\"\n",
        "5>2"
      ],
      "metadata": {
        "id": "0Fn_7MgYqYTu",
        "colab": {
          "base_uri": "https://localhost:8080/",
          "height": 34
        },
        "outputId": "b8ee586a-bc32-42a0-f614-f40ede8a89fd"
      },
      "execution_count": null,
      "outputs": [
        {
          "output_type": "display_data",
          "data": {
            "text/html": [
              "TRUE"
            ],
            "text/markdown": "TRUE",
            "text/latex": "TRUE",
            "text/plain": [
              "[1] TRUE"
            ]
          },
          "metadata": {}
        }
      ]
    },
    {
      "cell_type": "code",
      "source": [
        "# Interpreted: \"is 2 greater than 5?\"\n",
        "2>5"
      ],
      "metadata": {
        "id": "CrowJOOvqZGF",
        "colab": {
          "base_uri": "https://localhost:8080/",
          "height": 34
        },
        "outputId": "f4930747-4a01-4d66-88a1-0ea6ebc6085b"
      },
      "execution_count": null,
      "outputs": [
        {
          "output_type": "display_data",
          "data": {
            "text/html": [
              "FALSE"
            ],
            "text/markdown": "FALSE",
            "text/latex": "FALSE",
            "text/plain": [
              "[1] FALSE"
            ]
          },
          "metadata": {}
        }
      ]
    },
    {
      "cell_type": "code",
      "source": [
        "# Interpreted: \"is 5 equivalent to 5?\"\n",
        "5==5"
      ],
      "metadata": {
        "id": "lV8XAFKYqan7",
        "colab": {
          "base_uri": "https://localhost:8080/",
          "height": 34
        },
        "outputId": "40bc06c8-46f3-43f9-800e-51fd0909355b"
      },
      "execution_count": null,
      "outputs": [
        {
          "output_type": "display_data",
          "data": {
            "text/html": [
              "TRUE"
            ],
            "text/markdown": "TRUE",
            "text/latex": "TRUE",
            "text/plain": [
              "[1] TRUE"
            ]
          },
          "metadata": {}
        }
      ]
    },
    {
      "cell_type": "code",
      "source": [
        "# Interpreted: \"is 5 equivalent to 2?\"\n",
        "5==2"
      ],
      "metadata": {
        "id": "rFp7JzHvqe0t",
        "colab": {
          "base_uri": "https://localhost:8080/",
          "height": 34
        },
        "outputId": "9e70ff98-c1f2-4607-da5d-2105defc9934"
      },
      "execution_count": null,
      "outputs": [
        {
          "output_type": "display_data",
          "data": {
            "text/html": [
              "FALSE"
            ],
            "text/markdown": "FALSE",
            "text/latex": "FALSE",
            "text/plain": [
              "[1] FALSE"
            ]
          },
          "metadata": {}
        }
      ]
    },
    {
      "cell_type": "code",
      "source": [
        "# Interpreted: \"is 2 greater than 2?\"\n",
        "2>2"
      ],
      "metadata": {
        "id": "6eDQLOMRqiDe",
        "colab": {
          "base_uri": "https://localhost:8080/",
          "height": 34
        },
        "outputId": "255e0d25-a40b-4fd8-dd7e-f1a0ed28b8e1"
      },
      "execution_count": null,
      "outputs": [
        {
          "output_type": "display_data",
          "data": {
            "text/html": [
              "FALSE"
            ],
            "text/markdown": "FALSE",
            "text/latex": "FALSE",
            "text/plain": [
              "[1] FALSE"
            ]
          },
          "metadata": {}
        }
      ]
    },
    {
      "cell_type": "code",
      "source": [
        "# Interpreted: \"is 2 greater than OR EQUAL TO 2?\"\n",
        "2>=2"
      ],
      "metadata": {
        "id": "AP6HkwBnqik-",
        "colab": {
          "base_uri": "https://localhost:8080/",
          "height": 34
        },
        "outputId": "06c2892c-f9c9-4b90-9763-303057ddcc92"
      },
      "execution_count": null,
      "outputs": [
        {
          "output_type": "display_data",
          "data": {
            "text/html": [
              "TRUE"
            ],
            "text/markdown": "TRUE",
            "text/latex": "TRUE",
            "text/plain": [
              "[1] TRUE"
            ]
          },
          "metadata": {}
        }
      ]
    },
    {
      "cell_type": "code",
      "source": [
        "# \"Is 5 not equal to 2?\"\n",
        "5!=2"
      ],
      "metadata": {
        "id": "lSrh7MDBqjIk",
        "colab": {
          "base_uri": "https://localhost:8080/",
          "height": 34
        },
        "outputId": "b7ff8317-8dc7-4d2e-c2ea-f26d4c8924db"
      },
      "execution_count": null,
      "outputs": [
        {
          "output_type": "display_data",
          "data": {
            "text/html": [
              "TRUE"
            ],
            "text/markdown": "TRUE",
            "text/latex": "TRUE",
            "text/plain": [
              "[1] TRUE"
            ]
          },
          "metadata": {}
        }
      ]
    },
    {
      "cell_type": "code",
      "source": [
        "10/2 < 3"
      ],
      "metadata": {
        "colab": {
          "base_uri": "https://localhost:8080/",
          "height": 34
        },
        "id": "XJhGbH7uHB1o",
        "outputId": "a4fdfa09-32b1-4fe6-8894-f12aa847e8e7"
      },
      "execution_count": null,
      "outputs": [
        {
          "output_type": "display_data",
          "data": {
            "text/html": [
              "FALSE"
            ],
            "text/markdown": "FALSE",
            "text/latex": "FALSE",
            "text/plain": [
              "[1] FALSE"
            ]
          },
          "metadata": {}
        }
      ]
    },
    {
      "cell_type": "markdown",
      "source": [
        "Note that when testing for equivalence, double equal-signs `==` must be used.  This is to avoid ambiguity with *object assignments*."
      ],
      "metadata": {
        "id": "_bB9skgwqqre"
      }
    },
    {
      "cell_type": "markdown",
      "source": [
        "# Objects\n",
        "\n",
        "`R` is an *object-oriented* language.  This means it relies on object assignment an operation.\n",
        "\n",
        "What is an object?  An object is any sort of data structure that is stored in memory.  The object can be referred to to perform operations."
      ],
      "metadata": {
        "id": "TmI6PZJpqzHt"
      }
    },
    {
      "cell_type": "markdown",
      "source": [
        "For example, if I just type the code below, I am executing \"5\" once:"
      ],
      "metadata": {
        "id": "if34zOI7Hhvf"
      }
    },
    {
      "cell_type": "code",
      "source": [
        "5"
      ],
      "metadata": {
        "colab": {
          "base_uri": "https://localhost:8080/",
          "height": 34
        },
        "id": "B8Ne95YCHgx7",
        "outputId": "70e8361c-9887-417d-c72c-fe40a6398b1b"
      },
      "execution_count": null,
      "outputs": [
        {
          "output_type": "display_data",
          "data": {
            "text/html": [
              "5"
            ],
            "text/markdown": "5",
            "text/latex": "5",
            "text/plain": [
              "[1] 5"
            ]
          },
          "metadata": {}
        }
      ]
    },
    {
      "cell_type": "markdown",
      "source": [
        "But if I assign the number 5 to an *object*, I can refer back to it!"
      ],
      "metadata": {
        "id": "osk5jgWAHojX"
      }
    },
    {
      "cell_type": "code",
      "source": [
        "your_number = 5"
      ],
      "metadata": {
        "id": "ps7XZVoxHuPd"
      },
      "execution_count": null,
      "outputs": []
    },
    {
      "cell_type": "code",
      "source": [
        "your_number"
      ],
      "metadata": {
        "colab": {
          "base_uri": "https://localhost:8080/",
          "height": 34
        },
        "id": "zz3gulyOHym9",
        "outputId": "cf0265d6-790f-4c41-b4c8-42761c8ab7ed"
      },
      "execution_count": null,
      "outputs": [
        {
          "output_type": "display_data",
          "data": {
            "text/html": [
              "5"
            ],
            "text/markdown": "5",
            "text/latex": "5",
            "text/plain": [
              "[1] 5"
            ]
          },
          "metadata": {}
        }
      ]
    },
    {
      "cell_type": "code",
      "source": [
        "my_number"
      ],
      "metadata": {
        "colab": {
          "base_uri": "https://localhost:8080/",
          "height": 34
        },
        "id": "OAPjSkCrHcUZ",
        "outputId": "8ce7b417-368e-46d7-846d-8f63650458df"
      },
      "execution_count": null,
      "outputs": [
        {
          "output_type": "display_data",
          "data": {
            "text/html": [
              "5"
            ],
            "text/markdown": "5",
            "text/latex": "5",
            "text/plain": [
              "[1] 5"
            ]
          },
          "metadata": {}
        }
      ]
    },
    {
      "cell_type": "code",
      "source": [
        "my_number"
      ],
      "metadata": {
        "colab": {
          "base_uri": "https://localhost:8080/",
          "height": 34
        },
        "id": "i5xnBkJvHwq_",
        "outputId": "e8be7931-f1e9-4335-a12c-93e63ca61b25"
      },
      "execution_count": null,
      "outputs": [
        {
          "output_type": "display_data",
          "data": {
            "text/html": [
              "5"
            ],
            "text/markdown": "5",
            "text/latex": "5",
            "text/plain": [
              "[1] 5"
            ]
          },
          "metadata": {}
        }
      ]
    },
    {
      "cell_type": "markdown",
      "source": [
        "`R` now knows that `my_number` is the actual number 5.  I can now do math using the *object* `my_number`:"
      ],
      "metadata": {
        "id": "VcwbXNSvHyfX"
      }
    },
    {
      "cell_type": "code",
      "source": [
        "my_number + 2"
      ],
      "metadata": {
        "colab": {
          "base_uri": "https://localhost:8080/",
          "height": 34
        },
        "id": "CQA5W3V1H400",
        "outputId": "4c624417-9f69-420b-f6bd-e71121e02fd1"
      },
      "execution_count": null,
      "outputs": [
        {
          "output_type": "display_data",
          "data": {
            "text/html": [
              "7"
            ],
            "text/markdown": "7",
            "text/latex": "7",
            "text/plain": [
              "[1] 7"
            ]
          },
          "metadata": {}
        }
      ]
    },
    {
      "cell_type": "code",
      "source": [
        "my_number/2"
      ],
      "metadata": {
        "colab": {
          "base_uri": "https://localhost:8080/",
          "height": 34
        },
        "id": "ET5r32poH6Lw",
        "outputId": "9f224576-0c5c-4311-a689-06cef3bf8277"
      },
      "execution_count": null,
      "outputs": [
        {
          "output_type": "display_data",
          "data": {
            "text/html": [
              "2.5"
            ],
            "text/markdown": "2.5",
            "text/latex": "2.5",
            "text/plain": [
              "[1] 2.5"
            ]
          },
          "metadata": {}
        }
      ]
    },
    {
      "cell_type": "code",
      "source": [
        "log(my_number)"
      ],
      "metadata": {
        "colab": {
          "base_uri": "https://localhost:8080/",
          "height": 34
        },
        "id": "qlQCQJh1H72u",
        "outputId": "e85c6c60-7646-40f2-9327-20020bb2c676"
      },
      "execution_count": null,
      "outputs": [
        {
          "output_type": "display_data",
          "data": {
            "text/html": [
              "1.6094379124341"
            ],
            "text/markdown": "1.6094379124341",
            "text/latex": "1.6094379124341",
            "text/plain": [
              "[1] 1.609438"
            ]
          },
          "metadata": {}
        }
      ]
    },
    {
      "cell_type": "markdown",
      "source": [
        "# Data types"
      ],
      "metadata": {
        "id": "kvvJ-AjHHwD9"
      }
    },
    {
      "cell_type": "markdown",
      "source": [
        "It is important to be aware of the different data types in `R`.  Some functions operate differently depending on the type of data we are working with.  \n",
        "\n",
        "Use the `class()` function to display the data type:"
      ],
      "metadata": {
        "id": "9gJeEfRcKbA7"
      }
    },
    {
      "cell_type": "code",
      "source": [
        "class(my_number)"
      ],
      "metadata": {
        "colab": {
          "base_uri": "https://localhost:8080/",
          "height": 34
        },
        "id": "UgfbM1spKlOd",
        "outputId": "8c726e1e-3776-4a1a-8885-2d3cb903f70b"
      },
      "execution_count": null,
      "outputs": [
        {
          "output_type": "display_data",
          "data": {
            "text/html": [
              "'numeric'"
            ],
            "text/markdown": "'numeric'",
            "text/latex": "'numeric'",
            "text/plain": [
              "[1] \"numeric\""
            ]
          },
          "metadata": {}
        }
      ]
    },
    {
      "cell_type": "markdown",
      "source": [
        "Consider these other objects:"
      ],
      "metadata": {
        "id": "c5-gEMEYKuzj"
      }
    },
    {
      "cell_type": "code",
      "source": [
        "object1 <- TRUE\n",
        "object2 <- 'winona'"
      ],
      "metadata": {
        "id": "PQb_MIPtKaXy"
      },
      "execution_count": null,
      "outputs": []
    },
    {
      "cell_type": "markdown",
      "source": [
        "## Task\n",
        "\n",
        "* Run the `class()` function on the two objects above.  What are their data types?\n",
        "* Try adding 3 to each of the 2 objects above.  What happens?"
      ],
      "metadata": {
        "id": "Mt116NGRK8QC"
      }
    },
    {
      "cell_type": "markdown",
      "source": [
        "# Vectors\n",
        "\n",
        "*Vectors* are important data types in `R`.  Vectors store multiple items of the same data type.  "
      ],
      "metadata": {
        "id": "N9NgyKh0LNGL"
      }
    },
    {
      "cell_type": "markdown",
      "source": [
        "To create a vector, use the `c()` function:"
      ],
      "metadata": {
        "id": "ByCYN4GBLUYt"
      }
    },
    {
      "cell_type": "code",
      "source": [
        "myvec <- c(10,9,8,7,6,5,4,3,2,1,0)"
      ],
      "metadata": {
        "id": "rFCt3Ja0LT9G"
      },
      "execution_count": null,
      "outputs": []
    },
    {
      "cell_type": "markdown",
      "source": [
        "Many functions are built to work with vectors:"
      ],
      "metadata": {
        "id": "MfaVGZ3tLW2y"
      }
    },
    {
      "cell_type": "code",
      "source": [
        "class(myvec)"
      ],
      "metadata": {
        "id": "5WOje7q3LgvD",
        "colab": {
          "base_uri": "https://localhost:8080/",
          "height": 34
        },
        "outputId": "f9efa6fd-a89e-4f54-ccad-8bb084c6aa8a"
      },
      "execution_count": null,
      "outputs": [
        {
          "output_type": "display_data",
          "data": {
            "text/html": [
              "'numeric'"
            ],
            "text/markdown": "'numeric'",
            "text/latex": "'numeric'",
            "text/plain": [
              "[1] \"numeric\""
            ]
          },
          "metadata": {}
        }
      ]
    },
    {
      "cell_type": "code",
      "source": [
        "mean(myvec)"
      ],
      "metadata": {
        "id": "ytosvobvLcIi",
        "colab": {
          "base_uri": "https://localhost:8080/",
          "height": 34
        },
        "outputId": "0a72bb77-cf4b-40b9-d69b-79c109e294d3"
      },
      "execution_count": null,
      "outputs": [
        {
          "output_type": "display_data",
          "data": {
            "text/html": [
              "5"
            ],
            "text/markdown": "5",
            "text/latex": "5",
            "text/plain": [
              "[1] 5"
            ]
          },
          "metadata": {}
        }
      ]
    },
    {
      "cell_type": "code",
      "source": [
        "length(myvec)"
      ],
      "metadata": {
        "id": "P8HtxhVbLeT2",
        "colab": {
          "base_uri": "https://localhost:8080/",
          "height": 34
        },
        "outputId": "0d32d94f-b9ba-417d-c318-fddd1244e30e"
      },
      "execution_count": null,
      "outputs": [
        {
          "output_type": "display_data",
          "data": {
            "text/html": [
              "11"
            ],
            "text/markdown": "11",
            "text/latex": "11",
            "text/plain": [
              "[1] 11"
            ]
          },
          "metadata": {}
        }
      ]
    },
    {
      "cell_type": "markdown",
      "source": [
        "The power of vectors is that operations work on an entire vector.  For example:"
      ],
      "metadata": {
        "id": "Yd4wQUzHNOCU"
      }
    },
    {
      "cell_type": "code",
      "source": [
        "myvec + 2"
      ],
      "metadata": {
        "id": "sqZb0UT2NSHf",
        "colab": {
          "base_uri": "https://localhost:8080/",
          "height": 34
        },
        "outputId": "c113a599-dd70-45bc-cf24-4637f44f321e"
      },
      "execution_count": null,
      "outputs": [
        {
          "output_type": "display_data",
          "data": {
            "text/html": [
              "<style>\n",
              ".list-inline {list-style: none; margin:0; padding: 0}\n",
              ".list-inline>li {display: inline-block}\n",
              ".list-inline>li:not(:last-child)::after {content: \"\\00b7\"; padding: 0 .5ex}\n",
              "</style>\n",
              "<ol class=list-inline><li>12</li><li>11</li><li>10</li><li>9</li><li>8</li><li>7</li><li>6</li><li>5</li><li>4</li><li>3</li><li>2</li></ol>\n"
            ],
            "text/markdown": "1. 12\n2. 11\n3. 10\n4. 9\n5. 8\n6. 7\n7. 6\n8. 5\n9. 4\n10. 3\n11. 2\n\n\n",
            "text/latex": "\\begin{enumerate*}\n\\item 12\n\\item 11\n\\item 10\n\\item 9\n\\item 8\n\\item 7\n\\item 6\n\\item 5\n\\item 4\n\\item 3\n\\item 2\n\\end{enumerate*}\n",
            "text/plain": [
              " [1] 12 11 10  9  8  7  6  5  4  3  2"
            ]
          },
          "metadata": {}
        }
      ]
    },
    {
      "cell_type": "code",
      "source": [
        "myvec/3"
      ],
      "metadata": {
        "id": "7GhPPULrNT3X",
        "colab": {
          "base_uri": "https://localhost:8080/",
          "height": 34
        },
        "outputId": "207513b4-ccb3-4ee5-a6ee-6d71538f9f76"
      },
      "execution_count": null,
      "outputs": [
        {
          "output_type": "display_data",
          "data": {
            "text/html": [
              "<style>\n",
              ".list-inline {list-style: none; margin:0; padding: 0}\n",
              ".list-inline>li {display: inline-block}\n",
              ".list-inline>li:not(:last-child)::after {content: \"\\00b7\"; padding: 0 .5ex}\n",
              "</style>\n",
              "<ol class=list-inline><li>3.33333333333333</li><li>3</li><li>2.66666666666667</li><li>2.33333333333333</li><li>2</li><li>1.66666666666667</li><li>1.33333333333333</li><li>1</li><li>0.666666666666667</li><li>0.333333333333333</li><li>0</li></ol>\n"
            ],
            "text/markdown": "1. 3.33333333333333\n2. 3\n3. 2.66666666666667\n4. 2.33333333333333\n5. 2\n6. 1.66666666666667\n7. 1.33333333333333\n8. 1\n9. 0.666666666666667\n10. 0.333333333333333\n11. 0\n\n\n",
            "text/latex": "\\begin{enumerate*}\n\\item 3.33333333333333\n\\item 3\n\\item 2.66666666666667\n\\item 2.33333333333333\n\\item 2\n\\item 1.66666666666667\n\\item 1.33333333333333\n\\item 1\n\\item 0.666666666666667\n\\item 0.333333333333333\n\\item 0\n\\end{enumerate*}\n",
            "text/plain": [
              " [1] 3.3333333 3.0000000 2.6666667 2.3333333 2.0000000 1.6666667 1.3333333\n",
              " [8] 1.0000000 0.6666667 0.3333333 0.0000000"
            ]
          },
          "metadata": {}
        }
      ]
    },
    {
      "cell_type": "code",
      "source": [
        "myvec > 5"
      ],
      "metadata": {
        "id": "a0nSabSXOXDH",
        "colab": {
          "base_uri": "https://localhost:8080/",
          "height": 34
        },
        "outputId": "949321c9-0aba-4cf7-8b56-8525de986815"
      },
      "execution_count": null,
      "outputs": [
        {
          "output_type": "display_data",
          "data": {
            "text/html": [
              "<style>\n",
              ".list-inline {list-style: none; margin:0; padding: 0}\n",
              ".list-inline>li {display: inline-block}\n",
              ".list-inline>li:not(:last-child)::after {content: \"\\00b7\"; padding: 0 .5ex}\n",
              "</style>\n",
              "<ol class=list-inline><li>TRUE</li><li>TRUE</li><li>TRUE</li><li>TRUE</li><li>TRUE</li><li>FALSE</li><li>FALSE</li><li>FALSE</li><li>FALSE</li><li>FALSE</li><li>FALSE</li></ol>\n"
            ],
            "text/markdown": "1. TRUE\n2. TRUE\n3. TRUE\n4. TRUE\n5. TRUE\n6. FALSE\n7. FALSE\n8. FALSE\n9. FALSE\n10. FALSE\n11. FALSE\n\n\n",
            "text/latex": "\\begin{enumerate*}\n\\item TRUE\n\\item TRUE\n\\item TRUE\n\\item TRUE\n\\item TRUE\n\\item FALSE\n\\item FALSE\n\\item FALSE\n\\item FALSE\n\\item FALSE\n\\item FALSE\n\\end{enumerate*}\n",
            "text/plain": [
              " [1]  TRUE  TRUE  TRUE  TRUE  TRUE FALSE FALSE FALSE FALSE FALSE FALSE"
            ]
          },
          "metadata": {}
        }
      ]
    },
    {
      "cell_type": "markdown",
      "source": [
        "## Task\n"
      ],
      "metadata": {
        "id": "3caqmuLgM6mw"
      }
    },
    {
      "cell_type": "markdown",
      "source": [
        "Vectors are required to contain elements that are all the same data type, as this task demonstrates.\n",
        "\n"
      ],
      "metadata": {
        "id": "yGnjguDlMfqe"
      }
    },
    {
      "cell_type": "markdown",
      "source": [
        "\n",
        "Run the code below.  What's happening?  "
      ],
      "metadata": {
        "id": "hiSIiP90NKg9"
      }
    },
    {
      "cell_type": "code",
      "source": [
        "an_example <- c(5, 1, 3, 'winona', TRUE, FALSE)"
      ],
      "metadata": {
        "id": "p5hkf2SJMkn2"
      },
      "execution_count": null,
      "outputs": []
    },
    {
      "cell_type": "code",
      "source": [
        "an_example"
      ],
      "metadata": {
        "id": "S6M9xdW3MsLE",
        "colab": {
          "base_uri": "https://localhost:8080/",
          "height": 34
        },
        "outputId": "de19addb-2f0c-412b-fcca-7dccfd3ba807"
      },
      "execution_count": null,
      "outputs": [
        {
          "output_type": "display_data",
          "data": {
            "text/html": [
              "<style>\n",
              ".list-inline {list-style: none; margin:0; padding: 0}\n",
              ".list-inline>li {display: inline-block}\n",
              ".list-inline>li:not(:last-child)::after {content: \"\\00b7\"; padding: 0 .5ex}\n",
              "</style>\n",
              "<ol class=list-inline><li>'5'</li><li>'1'</li><li>'3'</li><li>'winona'</li><li>'TRUE'</li><li>'FALSE'</li></ol>\n"
            ],
            "text/markdown": "1. '5'\n2. '1'\n3. '3'\n4. 'winona'\n5. 'TRUE'\n6. 'FALSE'\n\n\n",
            "text/latex": "\\begin{enumerate*}\n\\item '5'\n\\item '1'\n\\item '3'\n\\item 'winona'\n\\item 'TRUE'\n\\item 'FALSE'\n\\end{enumerate*}\n",
            "text/plain": [
              "[1] \"5\"      \"1\"      \"3\"      \"winona\" \"TRUE\"   \"FALSE\" "
            ]
          },
          "metadata": {}
        }
      ]
    },
    {
      "cell_type": "code",
      "source": [
        "class(an_example)"
      ],
      "metadata": {
        "id": "boaj7kJfMthP",
        "colab": {
          "base_uri": "https://localhost:8080/",
          "height": 34
        },
        "outputId": "730e153f-68ab-4bdc-cb04-c64998bc8bcc"
      },
      "execution_count": null,
      "outputs": [
        {
          "output_type": "display_data",
          "data": {
            "text/html": [
              "'character'"
            ],
            "text/markdown": "'character'",
            "text/latex": "'character'",
            "text/plain": [
              "[1] \"character\""
            ]
          },
          "metadata": {}
        }
      ]
    },
    {
      "cell_type": "code",
      "source": [
        "another_example <- c(5, 1, 3, TRUE, FALSE)"
      ],
      "metadata": {
        "id": "fFw5d3i5Lf58"
      },
      "execution_count": null,
      "outputs": []
    },
    {
      "cell_type": "code",
      "source": [
        "another_example"
      ],
      "metadata": {
        "id": "w6AwMUqqM2T1",
        "colab": {
          "base_uri": "https://localhost:8080/",
          "height": 34
        },
        "outputId": "7f3aa2cd-9830-4717-cd74-4dc402347903"
      },
      "execution_count": null,
      "outputs": [
        {
          "output_type": "display_data",
          "data": {
            "text/html": [
              "<style>\n",
              ".list-inline {list-style: none; margin:0; padding: 0}\n",
              ".list-inline>li {display: inline-block}\n",
              ".list-inline>li:not(:last-child)::after {content: \"\\00b7\"; padding: 0 .5ex}\n",
              "</style>\n",
              "<ol class=list-inline><li>5</li><li>1</li><li>3</li><li>1</li><li>0</li></ol>\n"
            ],
            "text/markdown": "1. 5\n2. 1\n3. 3\n4. 1\n5. 0\n\n\n",
            "text/latex": "\\begin{enumerate*}\n\\item 5\n\\item 1\n\\item 3\n\\item 1\n\\item 0\n\\end{enumerate*}\n",
            "text/plain": [
              "[1] 5 1 3 1 0"
            ]
          },
          "metadata": {}
        }
      ]
    },
    {
      "cell_type": "code",
      "source": [
        "class(another_example)"
      ],
      "metadata": {
        "id": "tokHA9iMM1X0",
        "colab": {
          "base_uri": "https://localhost:8080/",
          "height": 34
        },
        "outputId": "bf184a29-6390-46da-8afc-0142c52780ae"
      },
      "execution_count": null,
      "outputs": [
        {
          "output_type": "display_data",
          "data": {
            "text/html": [
              "'numeric'"
            ],
            "text/markdown": "'numeric'",
            "text/latex": "'numeric'",
            "text/plain": [
              "[1] \"numeric\""
            ]
          },
          "metadata": {}
        }
      ]
    },
    {
      "cell_type": "code",
      "source": [
        "class(TRUE)"
      ],
      "metadata": {
        "colab": {
          "base_uri": "https://localhost:8080/",
          "height": 34
        },
        "id": "0e3eUe3CJpm7",
        "outputId": "3c6564cf-f91c-41b5-cff8-38d69930f7a9"
      },
      "execution_count": null,
      "outputs": [
        {
          "output_type": "display_data",
          "data": {
            "text/html": [
              "'logical'"
            ],
            "text/markdown": "'logical'",
            "text/latex": "'logical'",
            "text/plain": [
              "[1] \"logical\""
            ]
          },
          "metadata": {}
        }
      ]
    },
    {
      "cell_type": "code",
      "source": [
        "class(FALSE)"
      ],
      "metadata": {
        "colab": {
          "base_uri": "https://localhost:8080/",
          "height": 34
        },
        "id": "Wc26FazEJqnB",
        "outputId": "b9f8168f-e6bb-4738-9157-acf471fb4e72"
      },
      "execution_count": null,
      "outputs": [
        {
          "output_type": "display_data",
          "data": {
            "text/html": [
              "'logical'"
            ],
            "text/markdown": "'logical'",
            "text/latex": "'logical'",
            "text/plain": [
              "[1] \"logical\""
            ]
          },
          "metadata": {}
        }
      ]
    },
    {
      "cell_type": "markdown",
      "source": [
        "## Subsetting\n",
        "\n",
        "Square brackets `[]` can be used to subset elements of vectors.  The colon symbol `:` can be used to subset a range of indices."
      ],
      "metadata": {
        "id": "1G8gjegyNEJG"
      }
    },
    {
      "cell_type": "code",
      "source": [
        "an_example[4]"
      ],
      "metadata": {
        "id": "F_YWHk6mOoh4",
        "colab": {
          "base_uri": "https://localhost:8080/",
          "height": 34
        },
        "outputId": "1f7a7df2-12e7-4c7f-d5ef-04c1b8bdd593"
      },
      "execution_count": null,
      "outputs": [
        {
          "output_type": "display_data",
          "data": {
            "text/html": [
              "'winona'"
            ],
            "text/markdown": "'winona'",
            "text/latex": "'winona'",
            "text/plain": [
              "[1] \"winona\""
            ]
          },
          "metadata": {}
        }
      ]
    },
    {
      "cell_type": "code",
      "source": [
        "an_example[3:6]"
      ],
      "metadata": {
        "id": "GoU2aIW5OqCJ",
        "colab": {
          "base_uri": "https://localhost:8080/",
          "height": 34
        },
        "outputId": "f121fa2f-6004-4f81-c6f4-0cac2597b5b6"
      },
      "execution_count": null,
      "outputs": [
        {
          "output_type": "display_data",
          "data": {
            "text/html": [
              "<style>\n",
              ".list-inline {list-style: none; margin:0; padding: 0}\n",
              ".list-inline>li {display: inline-block}\n",
              ".list-inline>li:not(:last-child)::after {content: \"\\00b7\"; padding: 0 .5ex}\n",
              "</style>\n",
              "<ol class=list-inline><li>'3'</li><li>'winona'</li><li>'TRUE'</li><li>'FALSE'</li></ol>\n"
            ],
            "text/markdown": "1. '3'\n2. 'winona'\n3. 'TRUE'\n4. 'FALSE'\n\n\n",
            "text/latex": "\\begin{enumerate*}\n\\item '3'\n\\item 'winona'\n\\item 'TRUE'\n\\item 'FALSE'\n\\end{enumerate*}\n",
            "text/plain": [
              "[1] \"3\"      \"winona\" \"TRUE\"   \"FALSE\" "
            ]
          },
          "metadata": {}
        }
      ]
    },
    {
      "cell_type": "markdown",
      "source": [
        "Boolean vectors of the same length as the original vector can also be used to subset.  This is especially useful for subsetting vectors according to some condition, as the next example illustrates:"
      ],
      "metadata": {
        "id": "MjIfCePKQeDZ"
      }
    },
    {
      "cell_type": "code",
      "source": [
        "myvec"
      ],
      "metadata": {
        "colab": {
          "base_uri": "https://localhost:8080/",
          "height": 34
        },
        "id": "rUjIlOOAQoeZ",
        "outputId": "2490f30e-0e3e-4b56-93d6-68c2b3541dcd"
      },
      "execution_count": null,
      "outputs": [
        {
          "output_type": "display_data",
          "data": {
            "text/html": [
              "<style>\n",
              ".list-inline {list-style: none; margin:0; padding: 0}\n",
              ".list-inline>li {display: inline-block}\n",
              ".list-inline>li:not(:last-child)::after {content: \"\\00b7\"; padding: 0 .5ex}\n",
              "</style>\n",
              "<ol class=list-inline><li>10</li><li>9</li><li>8</li><li>7</li><li>6</li><li>5</li><li>4</li><li>3</li><li>2</li><li>1</li><li>0</li></ol>\n"
            ],
            "text/markdown": "1. 10\n2. 9\n3. 8\n4. 7\n5. 6\n6. 5\n7. 4\n8. 3\n9. 2\n10. 1\n11. 0\n\n\n",
            "text/latex": "\\begin{enumerate*}\n\\item 10\n\\item 9\n\\item 8\n\\item 7\n\\item 6\n\\item 5\n\\item 4\n\\item 3\n\\item 2\n\\item 1\n\\item 0\n\\end{enumerate*}\n",
            "text/plain": [
              " [1] 10  9  8  7  6  5  4  3  2  1  0"
            ]
          },
          "metadata": {}
        }
      ]
    },
    {
      "cell_type": "code",
      "source": [
        "wanted <- myvec > 6"
      ],
      "metadata": {
        "id": "cAwvFpcOQl1q"
      },
      "execution_count": null,
      "outputs": []
    },
    {
      "cell_type": "code",
      "source": [
        "wanted"
      ],
      "metadata": {
        "id": "x55jk-HZQ31E",
        "colab": {
          "base_uri": "https://localhost:8080/",
          "height": 34
        },
        "outputId": "93d5d043-3589-4305-f6ca-b574db4940f8"
      },
      "execution_count": null,
      "outputs": [
        {
          "output_type": "display_data",
          "data": {
            "text/html": [
              "<style>\n",
              ".list-inline {list-style: none; margin:0; padding: 0}\n",
              ".list-inline>li {display: inline-block}\n",
              ".list-inline>li:not(:last-child)::after {content: \"\\00b7\"; padding: 0 .5ex}\n",
              "</style>\n",
              "<ol class=list-inline><li>TRUE</li><li>TRUE</li><li>TRUE</li><li>TRUE</li><li>FALSE</li><li>FALSE</li><li>FALSE</li><li>FALSE</li><li>FALSE</li><li>FALSE</li><li>FALSE</li></ol>\n"
            ],
            "text/markdown": "1. TRUE\n2. TRUE\n3. TRUE\n4. TRUE\n5. FALSE\n6. FALSE\n7. FALSE\n8. FALSE\n9. FALSE\n10. FALSE\n11. FALSE\n\n\n",
            "text/latex": "\\begin{enumerate*}\n\\item TRUE\n\\item TRUE\n\\item TRUE\n\\item TRUE\n\\item FALSE\n\\item FALSE\n\\item FALSE\n\\item FALSE\n\\item FALSE\n\\item FALSE\n\\item FALSE\n\\end{enumerate*}\n",
            "text/plain": [
              " [1]  TRUE  TRUE  TRUE  TRUE FALSE FALSE FALSE FALSE FALSE FALSE FALSE"
            ]
          },
          "metadata": {}
        }
      ]
    },
    {
      "cell_type": "code",
      "source": [
        "myvec[wanted]"
      ],
      "metadata": {
        "id": "-hWns01dQwDw",
        "colab": {
          "base_uri": "https://localhost:8080/",
          "height": 34
        },
        "outputId": "1ceb241a-9746-4508-b7f3-00ef7fa60ba8"
      },
      "execution_count": null,
      "outputs": [
        {
          "output_type": "display_data",
          "data": {
            "text/html": [
              "<style>\n",
              ".list-inline {list-style: none; margin:0; padding: 0}\n",
              ".list-inline>li {display: inline-block}\n",
              ".list-inline>li:not(:last-child)::after {content: \"\\00b7\"; padding: 0 .5ex}\n",
              "</style>\n",
              "<ol class=list-inline><li>10</li><li>9</li><li>8</li><li>7</li></ol>\n"
            ],
            "text/markdown": "1. 10\n2. 9\n3. 8\n4. 7\n\n\n",
            "text/latex": "\\begin{enumerate*}\n\\item 10\n\\item 9\n\\item 8\n\\item 7\n\\end{enumerate*}\n",
            "text/plain": [
              "[1] 10  9  8  7"
            ]
          },
          "metadata": {}
        }
      ]
    },
    {
      "cell_type": "markdown",
      "source": [
        "### Task\n",
        "\n",
        "Consider the vector below:"
      ],
      "metadata": {
        "id": "tldZ_y1kO3eB"
      }
    },
    {
      "cell_type": "code",
      "source": [
        "some_letters <- c('g','d','w','e','b','z','m','a','z','v','l','q','o','s','o')"
      ],
      "metadata": {
        "id": "lhm0KeddPF29"
      },
      "execution_count": null,
      "outputs": []
    },
    {
      "cell_type": "markdown",
      "source": [
        "I want to subset the 3rd, 8th, 9th, 13th, and 15th letters.  We'll go about this as follows:\n",
        "\n",
        "1. Create a vector `indices` that contains the numbers 3, 8, 9, 13, and 15.\n",
        "2. Use this vector inside square brackets `[]` to subset the desired letters.\n",
        "\n",
        "Identify the result as some local \"character\"!"
      ],
      "metadata": {
        "id": "D72Q1rMGLbyG"
      }
    },
    {
      "cell_type": "code",
      "source": [],
      "metadata": {
        "id": "tepngnkDz-g0"
      },
      "execution_count": null,
      "outputs": []
    },
    {
      "cell_type": "markdown",
      "source": [
        "# Data frames\n",
        "\n",
        "One of the most powerful types of data structures in `R` is the *data frame*.  One way to think of a data frame is as a combination of vectors, each column a vector of the same data type.  However, the columns might be different data types from each other.  \n"
      ],
      "metadata": {
        "id": "NqPa_z69S2y1"
      }
    },
    {
      "cell_type": "markdown",
      "source": [
        "The `fev` data set forced expiratory volume (FEV) and other metrics on children and teens:"
      ],
      "metadata": {
        "id": "r9LZRpqNXrRZ"
      }
    },
    {
      "cell_type": "code",
      "source": [
        "fev <- read.csv('https://www.dropbox.com/scl/fi/ijsx30c3bk5fzymp6ijh5/FEVdata.csv?rlkey=qp9armn7h46klefbgr3iopdzr&dl=1')"
      ],
      "metadata": {
        "id": "Pif3pZ2gTSYT"
      },
      "execution_count": null,
      "outputs": []
    },
    {
      "cell_type": "code",
      "source": [
        "class(fev)"
      ],
      "metadata": {
        "id": "OLolgyV2X49M",
        "colab": {
          "base_uri": "https://localhost:8080/",
          "height": 34
        },
        "outputId": "af820435-3f9d-4a51-846f-bd7e919d8f72"
      },
      "execution_count": null,
      "outputs": [
        {
          "output_type": "display_data",
          "data": {
            "text/html": [
              "'data.frame'"
            ],
            "text/markdown": "'data.frame'",
            "text/latex": "'data.frame'",
            "text/plain": [
              "[1] \"data.frame\""
            ]
          },
          "metadata": {}
        }
      ]
    },
    {
      "cell_type": "markdown",
      "source": [
        "The `head()` command shows the first 6 rows of the data frame.  Note the different data types in each column:"
      ],
      "metadata": {
        "id": "4cTBaVJmX2hj"
      }
    },
    {
      "cell_type": "code",
      "source": [
        "head(fev)"
      ],
      "metadata": {
        "id": "-esIEf2cX1jy",
        "colab": {
          "base_uri": "https://localhost:8080/",
          "height": 286
        },
        "outputId": "4ef4fca1-404b-4575-b68a-5387a1bba841"
      },
      "execution_count": null,
      "outputs": [
        {
          "output_type": "display_data",
          "data": {
            "text/html": [
              "<table class=\"dataframe\">\n",
              "<caption>A data.frame: 6 × 6</caption>\n",
              "<thead>\n",
              "\t<tr><th></th><th scope=col>SUBJID</th><th scope=col>AGE</th><th scope=col>FEV</th><th scope=col>HEIGHT</th><th scope=col>SEX</th><th scope=col>SMOKE</th></tr>\n",
              "\t<tr><th></th><th scope=col>&lt;int&gt;</th><th scope=col>&lt;int&gt;</th><th scope=col>&lt;dbl&gt;</th><th scope=col>&lt;dbl&gt;</th><th scope=col>&lt;chr&gt;</th><th scope=col>&lt;chr&gt;</th></tr>\n",
              "</thead>\n",
              "<tbody>\n",
              "\t<tr><th scope=row>1</th><td> 301</td><td>9</td><td>1.708</td><td>57.0</td><td>F</td><td>No</td></tr>\n",
              "\t<tr><th scope=row>2</th><td> 451</td><td>8</td><td>1.724</td><td>67.5</td><td>F</td><td>No</td></tr>\n",
              "\t<tr><th scope=row>3</th><td> 501</td><td>7</td><td>1.720</td><td>54.5</td><td>F</td><td>No</td></tr>\n",
              "\t<tr><th scope=row>4</th><td> 642</td><td>9</td><td>1.558</td><td>53.0</td><td>M</td><td>No</td></tr>\n",
              "\t<tr><th scope=row>5</th><td> 901</td><td>9</td><td>1.895</td><td>57.0</td><td>M</td><td>No</td></tr>\n",
              "\t<tr><th scope=row>6</th><td>1701</td><td>8</td><td>2.336</td><td>61.0</td><td>F</td><td>No</td></tr>\n",
              "</tbody>\n",
              "</table>\n"
            ],
            "text/markdown": "\nA data.frame: 6 × 6\n\n| <!--/--> | SUBJID &lt;int&gt; | AGE &lt;int&gt; | FEV &lt;dbl&gt; | HEIGHT &lt;dbl&gt; | SEX &lt;chr&gt; | SMOKE &lt;chr&gt; |\n|---|---|---|---|---|---|---|\n| 1 |  301 | 9 | 1.708 | 57.0 | F | No |\n| 2 |  451 | 8 | 1.724 | 67.5 | F | No |\n| 3 |  501 | 7 | 1.720 | 54.5 | F | No |\n| 4 |  642 | 9 | 1.558 | 53.0 | M | No |\n| 5 |  901 | 9 | 1.895 | 57.0 | M | No |\n| 6 | 1701 | 8 | 2.336 | 61.0 | F | No |\n\n",
            "text/latex": "A data.frame: 6 × 6\n\\begin{tabular}{r|llllll}\n  & SUBJID & AGE & FEV & HEIGHT & SEX & SMOKE\\\\\n  & <int> & <int> & <dbl> & <dbl> & <chr> & <chr>\\\\\n\\hline\n\t1 &  301 & 9 & 1.708 & 57.0 & F & No\\\\\n\t2 &  451 & 8 & 1.724 & 67.5 & F & No\\\\\n\t3 &  501 & 7 & 1.720 & 54.5 & F & No\\\\\n\t4 &  642 & 9 & 1.558 & 53.0 & M & No\\\\\n\t5 &  901 & 9 & 1.895 & 57.0 & M & No\\\\\n\t6 & 1701 & 8 & 2.336 & 61.0 & F & No\\\\\n\\end{tabular}\n",
            "text/plain": [
              "  SUBJID AGE FEV   HEIGHT SEX SMOKE\n",
              "1  301   9   1.708 57.0   F   No   \n",
              "2  451   8   1.724 67.5   F   No   \n",
              "3  501   7   1.720 54.5   F   No   \n",
              "4  642   9   1.558 53.0   M   No   \n",
              "5  901   9   1.895 57.0   M   No   \n",
              "6 1701   8   2.336 61.0   F   No   "
            ]
          },
          "metadata": {}
        }
      ]
    },
    {
      "cell_type": "markdown",
      "source": [
        "The `dim()` command shows how many rows and columns there are:"
      ],
      "metadata": {
        "id": "RpfkPoH_YDGL"
      }
    },
    {
      "cell_type": "code",
      "source": [
        "dim(fev)"
      ],
      "metadata": {
        "id": "x37tgw_GYF-K",
        "colab": {
          "base_uri": "https://localhost:8080/",
          "height": 34
        },
        "outputId": "2a5e39bb-ace4-4d5d-faa5-f389411b6bf1"
      },
      "execution_count": null,
      "outputs": [
        {
          "output_type": "display_data",
          "data": {
            "text/html": [
              "<style>\n",
              ".list-inline {list-style: none; margin:0; padding: 0}\n",
              ".list-inline>li {display: inline-block}\n",
              ".list-inline>li:not(:last-child)::after {content: \"\\00b7\"; padding: 0 .5ex}\n",
              "</style>\n",
              "<ol class=list-inline><li>654</li><li>6</li></ol>\n"
            ],
            "text/markdown": "1. 654\n2. 6\n\n\n",
            "text/latex": "\\begin{enumerate*}\n\\item 654\n\\item 6\n\\end{enumerate*}\n",
            "text/plain": [
              "[1] 654   6"
            ]
          },
          "metadata": {}
        }
      ]
    },
    {
      "cell_type": "markdown",
      "source": [
        "The dollar sign `$` can be used to extract a column.  In the code below, we extract the children's heights and put them in their own vector:"
      ],
      "metadata": {
        "id": "P8BEPJHkX_-D"
      }
    },
    {
      "cell_type": "code",
      "source": [
        "heights <- fev$HEIGHT"
      ],
      "metadata": {
        "id": "H0ceGJEVYzmy"
      },
      "execution_count": null,
      "outputs": []
    },
    {
      "cell_type": "code",
      "source": [
        "mean(heights)"
      ],
      "metadata": {
        "colab": {
          "base_uri": "https://localhost:8080/",
          "height": 34
        },
        "id": "gfRVtYZMK7fJ",
        "outputId": "f5fbd0b3-0805-4c18-bb70-1d837156d35f"
      },
      "execution_count": null,
      "outputs": [
        {
          "output_type": "display_data",
          "data": {
            "text/html": [
              "61.1435779816514"
            ],
            "text/markdown": "61.1435779816514",
            "text/latex": "61.1435779816514",
            "text/plain": [
              "[1] 61.14358"
            ]
          },
          "metadata": {}
        }
      ]
    },
    {
      "cell_type": "code",
      "source": [
        "head(heights)"
      ],
      "metadata": {
        "colab": {
          "base_uri": "https://localhost:8080/",
          "height": 34
        },
        "id": "ed4lPAz4Y1Y_",
        "outputId": "a3d989bb-7889-4e0c-94b2-60427f3bd056"
      },
      "execution_count": null,
      "outputs": [
        {
          "output_type": "display_data",
          "data": {
            "text/html": [
              "<style>\n",
              ".list-inline {list-style: none; margin:0; padding: 0}\n",
              ".list-inline>li {display: inline-block}\n",
              ".list-inline>li:not(:last-child)::after {content: \"\\00b7\"; padding: 0 .5ex}\n",
              "</style>\n",
              "<ol class=list-inline><li>57</li><li>67.5</li><li>54.5</li><li>53</li><li>57</li><li>61</li></ol>\n"
            ],
            "text/markdown": "1. 57\n2. 67.5\n3. 54.5\n4. 53\n5. 57\n6. 61\n\n\n",
            "text/latex": "\\begin{enumerate*}\n\\item 57\n\\item 67.5\n\\item 54.5\n\\item 53\n\\item 57\n\\item 61\n\\end{enumerate*}\n",
            "text/plain": [
              "[1] 57.0 67.5 54.5 53.0 57.0 61.0"
            ]
          },
          "metadata": {}
        }
      ]
    },
    {
      "cell_type": "code",
      "source": [
        "length(heights)"
      ],
      "metadata": {
        "colab": {
          "base_uri": "https://localhost:8080/",
          "height": 34
        },
        "id": "oAHhQ2iFY2QQ",
        "outputId": "56a8eaf2-e170-400d-c365-1330b57fc653"
      },
      "execution_count": null,
      "outputs": [
        {
          "output_type": "display_data",
          "data": {
            "text/html": [
              "654"
            ],
            "text/markdown": "654",
            "text/latex": "654",
            "text/plain": [
              "[1] 654"
            ]
          },
          "metadata": {}
        }
      ]
    },
    {
      "cell_type": "markdown",
      "source": [
        "## Task: counting teens\n",
        "\n",
        "How many kids in the `fev` data set are teens (13 or older)?  To find this out:\n",
        "\n",
        "* Create a vector `age` containing only the children's ages.\n",
        "* Create a boolean vector `is_teen` that is `TRUE` if each child is 13+, `FALSE` otherwise\n",
        "* Use `is_teen` and `[]` to subset only the teens into their own vector, `teen_ages`.\n",
        "* Use `length()` to determine the length of the `teen_ages` vector, and hence the number of teens in the data set.\n",
        "* Note that `R` thinks of `TRUE` as ` and `FALSE` as 0.  We could have just as easily counted the number of teens by running `sum()` on the `is_teen` vector.  Use this approach to verify the number of teens in the data set."
      ],
      "metadata": {
        "id": "rY2mX5a7Tlwm"
      }
    },
    {
      "cell_type": "markdown",
      "source": [
        "# The `dplyr` package\n",
        "\n",
        "The `dplyr` package is one of the foremost ways for working with data frames.  The `dplyr` package is known for its data verb and pipe `%>%` notation for sequencing data wrangling tasks. The package must be loaded with each new `R` session:"
      ],
      "metadata": {
        "id": "ItXNpC2HcDH1"
      }
    },
    {
      "cell_type": "code",
      "source": [
        "library(dplyr)"
      ],
      "metadata": {
        "id": "HN6Fnot0cRPq"
      },
      "execution_count": null,
      "outputs": []
    },
    {
      "cell_type": "markdown",
      "source": [
        "Some of the most important `dplyr` verbs are:\n",
        "\n",
        "* `mutate()`: create a new column that is a transformation of an existing column\n",
        "* `filter()`: subset rows by some criteria\n",
        "* `summarize()`: create a summary of some column\n",
        "* `group_by()`: create grouped mutates or summaries; used most frequently in conjunction with `summarize()` and `mutate()`."
      ],
      "metadata": {
        "id": "WS0ahEBlcYt8"
      }
    },
    {
      "cell_type": "markdown",
      "source": [
        "The syntax of a `dplyr` command chain takes the following form:\n",
        "\n",
        "```\n",
        "(dataframe\n",
        "  %>% task1\n",
        "  %>% task2\n",
        "  %>% task3\n",
        ")\n",
        "```"
      ],
      "metadata": {
        "id": "hqqajIiIekCf"
      }
    },
    {
      "cell_type": "markdown",
      "source": [
        "## `mutate()`\n",
        "\n",
        "`mutate()` will either transform (replace) an existing column, or create a new column.\n",
        "\n",
        "In the example below, the `mutate()` function is used to convert `HEIGHT` to feet (transform/replace), and to create a a new `is_teen` variable:"
      ],
      "metadata": {
        "id": "YaL6XHsqdLgk"
      }
    },
    {
      "cell_type": "code",
      "source": [
        "(fev\n",
        "  %>% mutate(HEIGHT = HEIGHT / 12, is_teen = ifelse(AGE >=13, 1, 0))\n",
        "  %>% head()\n",
        ")"
      ],
      "metadata": {
        "colab": {
          "base_uri": "https://localhost:8080/",
          "height": 286
        },
        "id": "4iVdrdicdX2O",
        "outputId": "1747d671-d9f0-4b04-910d-61b81d9b7098"
      },
      "execution_count": null,
      "outputs": [
        {
          "output_type": "display_data",
          "data": {
            "text/html": [
              "<table class=\"dataframe\">\n",
              "<caption>A data.frame: 6 × 7</caption>\n",
              "<thead>\n",
              "\t<tr><th></th><th scope=col>SUBJID</th><th scope=col>AGE</th><th scope=col>FEV</th><th scope=col>HEIGHT</th><th scope=col>SEX</th><th scope=col>SMOKE</th><th scope=col>is_teen</th></tr>\n",
              "\t<tr><th></th><th scope=col>&lt;int&gt;</th><th scope=col>&lt;int&gt;</th><th scope=col>&lt;dbl&gt;</th><th scope=col>&lt;dbl&gt;</th><th scope=col>&lt;chr&gt;</th><th scope=col>&lt;chr&gt;</th><th scope=col>&lt;dbl&gt;</th></tr>\n",
              "</thead>\n",
              "<tbody>\n",
              "\t<tr><th scope=row>1</th><td> 301</td><td>9</td><td>1.708</td><td>4.750000</td><td>F</td><td>No</td><td>0</td></tr>\n",
              "\t<tr><th scope=row>2</th><td> 451</td><td>8</td><td>1.724</td><td>5.625000</td><td>F</td><td>No</td><td>0</td></tr>\n",
              "\t<tr><th scope=row>3</th><td> 501</td><td>7</td><td>1.720</td><td>4.541667</td><td>F</td><td>No</td><td>0</td></tr>\n",
              "\t<tr><th scope=row>4</th><td> 642</td><td>9</td><td>1.558</td><td>4.416667</td><td>M</td><td>No</td><td>0</td></tr>\n",
              "\t<tr><th scope=row>5</th><td> 901</td><td>9</td><td>1.895</td><td>4.750000</td><td>M</td><td>No</td><td>0</td></tr>\n",
              "\t<tr><th scope=row>6</th><td>1701</td><td>8</td><td>2.336</td><td>5.083333</td><td>F</td><td>No</td><td>0</td></tr>\n",
              "</tbody>\n",
              "</table>\n"
            ],
            "text/markdown": "\nA data.frame: 6 × 7\n\n| <!--/--> | SUBJID &lt;int&gt; | AGE &lt;int&gt; | FEV &lt;dbl&gt; | HEIGHT &lt;dbl&gt; | SEX &lt;chr&gt; | SMOKE &lt;chr&gt; | is_teen &lt;dbl&gt; |\n|---|---|---|---|---|---|---|---|\n| 1 |  301 | 9 | 1.708 | 4.750000 | F | No | 0 |\n| 2 |  451 | 8 | 1.724 | 5.625000 | F | No | 0 |\n| 3 |  501 | 7 | 1.720 | 4.541667 | F | No | 0 |\n| 4 |  642 | 9 | 1.558 | 4.416667 | M | No | 0 |\n| 5 |  901 | 9 | 1.895 | 4.750000 | M | No | 0 |\n| 6 | 1701 | 8 | 2.336 | 5.083333 | F | No | 0 |\n\n",
            "text/latex": "A data.frame: 6 × 7\n\\begin{tabular}{r|lllllll}\n  & SUBJID & AGE & FEV & HEIGHT & SEX & SMOKE & is\\_teen\\\\\n  & <int> & <int> & <dbl> & <dbl> & <chr> & <chr> & <dbl>\\\\\n\\hline\n\t1 &  301 & 9 & 1.708 & 4.750000 & F & No & 0\\\\\n\t2 &  451 & 8 & 1.724 & 5.625000 & F & No & 0\\\\\n\t3 &  501 & 7 & 1.720 & 4.541667 & F & No & 0\\\\\n\t4 &  642 & 9 & 1.558 & 4.416667 & M & No & 0\\\\\n\t5 &  901 & 9 & 1.895 & 4.750000 & M & No & 0\\\\\n\t6 & 1701 & 8 & 2.336 & 5.083333 & F & No & 0\\\\\n\\end{tabular}\n",
            "text/plain": [
              "  SUBJID AGE FEV   HEIGHT   SEX SMOKE is_teen\n",
              "1  301   9   1.708 4.750000 F   No    0      \n",
              "2  451   8   1.724 5.625000 F   No    0      \n",
              "3  501   7   1.720 4.541667 F   No    0      \n",
              "4  642   9   1.558 4.416667 M   No    0      \n",
              "5  901   9   1.895 4.750000 M   No    0      \n",
              "6 1701   8   2.336 5.083333 F   No    0      "
            ]
          },
          "metadata": {}
        }
      ]
    },
    {
      "cell_type": "code",
      "source": [
        "head(fev)"
      ],
      "metadata": {
        "colab": {
          "base_uri": "https://localhost:8080/",
          "height": 286
        },
        "id": "TW6aGrYVM4g-",
        "outputId": "aadd2af9-d6e2-474a-de2e-dae7d0a8f013"
      },
      "execution_count": null,
      "outputs": [
        {
          "output_type": "display_data",
          "data": {
            "text/html": [
              "<table class=\"dataframe\">\n",
              "<caption>A data.frame: 6 × 6</caption>\n",
              "<thead>\n",
              "\t<tr><th></th><th scope=col>SUBJID</th><th scope=col>AGE</th><th scope=col>FEV</th><th scope=col>HEIGHT</th><th scope=col>SEX</th><th scope=col>SMOKE</th></tr>\n",
              "\t<tr><th></th><th scope=col>&lt;int&gt;</th><th scope=col>&lt;int&gt;</th><th scope=col>&lt;dbl&gt;</th><th scope=col>&lt;dbl&gt;</th><th scope=col>&lt;chr&gt;</th><th scope=col>&lt;chr&gt;</th></tr>\n",
              "</thead>\n",
              "<tbody>\n",
              "\t<tr><th scope=row>1</th><td> 301</td><td>9</td><td>1.708</td><td>57.0</td><td>F</td><td>No</td></tr>\n",
              "\t<tr><th scope=row>2</th><td> 451</td><td>8</td><td>1.724</td><td>67.5</td><td>F</td><td>No</td></tr>\n",
              "\t<tr><th scope=row>3</th><td> 501</td><td>7</td><td>1.720</td><td>54.5</td><td>F</td><td>No</td></tr>\n",
              "\t<tr><th scope=row>4</th><td> 642</td><td>9</td><td>1.558</td><td>53.0</td><td>M</td><td>No</td></tr>\n",
              "\t<tr><th scope=row>5</th><td> 901</td><td>9</td><td>1.895</td><td>57.0</td><td>M</td><td>No</td></tr>\n",
              "\t<tr><th scope=row>6</th><td>1701</td><td>8</td><td>2.336</td><td>61.0</td><td>F</td><td>No</td></tr>\n",
              "</tbody>\n",
              "</table>\n"
            ],
            "text/markdown": "\nA data.frame: 6 × 6\n\n| <!--/--> | SUBJID &lt;int&gt; | AGE &lt;int&gt; | FEV &lt;dbl&gt; | HEIGHT &lt;dbl&gt; | SEX &lt;chr&gt; | SMOKE &lt;chr&gt; |\n|---|---|---|---|---|---|---|\n| 1 |  301 | 9 | 1.708 | 57.0 | F | No |\n| 2 |  451 | 8 | 1.724 | 67.5 | F | No |\n| 3 |  501 | 7 | 1.720 | 54.5 | F | No |\n| 4 |  642 | 9 | 1.558 | 53.0 | M | No |\n| 5 |  901 | 9 | 1.895 | 57.0 | M | No |\n| 6 | 1701 | 8 | 2.336 | 61.0 | F | No |\n\n",
            "text/latex": "A data.frame: 6 × 6\n\\begin{tabular}{r|llllll}\n  & SUBJID & AGE & FEV & HEIGHT & SEX & SMOKE\\\\\n  & <int> & <int> & <dbl> & <dbl> & <chr> & <chr>\\\\\n\\hline\n\t1 &  301 & 9 & 1.708 & 57.0 & F & No\\\\\n\t2 &  451 & 8 & 1.724 & 67.5 & F & No\\\\\n\t3 &  501 & 7 & 1.720 & 54.5 & F & No\\\\\n\t4 &  642 & 9 & 1.558 & 53.0 & M & No\\\\\n\t5 &  901 & 9 & 1.895 & 57.0 & M & No\\\\\n\t6 & 1701 & 8 & 2.336 & 61.0 & F & No\\\\\n\\end{tabular}\n",
            "text/plain": [
              "  SUBJID AGE FEV   HEIGHT SEX SMOKE\n",
              "1  301   9   1.708 57.0   F   No   \n",
              "2  451   8   1.724 67.5   F   No   \n",
              "3  501   7   1.720 54.5   F   No   \n",
              "4  642   9   1.558 53.0   M   No   \n",
              "5  901   9   1.895 57.0   M   No   \n",
              "6 1701   8   2.336 61.0   F   No   "
            ]
          },
          "metadata": {}
        }
      ]
    },
    {
      "cell_type": "markdown",
      "source": [
        "This code has 2 tasks:\n",
        "\n",
        "* A `mutate()` task;\n",
        "* A `head()` task.\n",
        "\n",
        "The `mutate()` comes first, followed by `head()`.  "
      ],
      "metadata": {
        "id": "dS42jyGiezVg"
      }
    },
    {
      "cell_type": "markdown",
      "source": [
        "If we want to save this transformed data frame, we need to assign it to a new object:"
      ],
      "metadata": {
        "id": "8Ik0cx_1d8o1"
      }
    },
    {
      "cell_type": "code",
      "source": [
        "fev_transformed <- (fev\n",
        "  %>% mutate(HEIGHT = HEIGHT / 12, is_teen = ifelse(AGE >=13, 1, 0))\n",
        "  %>% head()\n",
        ")"
      ],
      "metadata": {
        "id": "-vKdeE6Wjx5M"
      },
      "execution_count": null,
      "outputs": []
    },
    {
      "cell_type": "code",
      "source": [
        "fev_transformed"
      ],
      "metadata": {
        "id": "93IexETej0y3",
        "colab": {
          "base_uri": "https://localhost:8080/",
          "height": 286
        },
        "outputId": "ed15e4ff-e588-4121-f6f9-1e92c50b53a6"
      },
      "execution_count": null,
      "outputs": [
        {
          "output_type": "display_data",
          "data": {
            "text/html": [
              "<table class=\"dataframe\">\n",
              "<caption>A data.frame: 6 × 7</caption>\n",
              "<thead>\n",
              "\t<tr><th></th><th scope=col>SUBJID</th><th scope=col>AGE</th><th scope=col>FEV</th><th scope=col>HEIGHT</th><th scope=col>SEX</th><th scope=col>SMOKE</th><th scope=col>is_teen</th></tr>\n",
              "\t<tr><th></th><th scope=col>&lt;int&gt;</th><th scope=col>&lt;int&gt;</th><th scope=col>&lt;dbl&gt;</th><th scope=col>&lt;dbl&gt;</th><th scope=col>&lt;chr&gt;</th><th scope=col>&lt;chr&gt;</th><th scope=col>&lt;dbl&gt;</th></tr>\n",
              "</thead>\n",
              "<tbody>\n",
              "\t<tr><th scope=row>1</th><td> 301</td><td>9</td><td>1.708</td><td>4.750000</td><td>F</td><td>No</td><td>0</td></tr>\n",
              "\t<tr><th scope=row>2</th><td> 451</td><td>8</td><td>1.724</td><td>5.625000</td><td>F</td><td>No</td><td>0</td></tr>\n",
              "\t<tr><th scope=row>3</th><td> 501</td><td>7</td><td>1.720</td><td>4.541667</td><td>F</td><td>No</td><td>0</td></tr>\n",
              "\t<tr><th scope=row>4</th><td> 642</td><td>9</td><td>1.558</td><td>4.416667</td><td>M</td><td>No</td><td>0</td></tr>\n",
              "\t<tr><th scope=row>5</th><td> 901</td><td>9</td><td>1.895</td><td>4.750000</td><td>M</td><td>No</td><td>0</td></tr>\n",
              "\t<tr><th scope=row>6</th><td>1701</td><td>8</td><td>2.336</td><td>5.083333</td><td>F</td><td>No</td><td>0</td></tr>\n",
              "</tbody>\n",
              "</table>\n"
            ],
            "text/markdown": "\nA data.frame: 6 × 7\n\n| <!--/--> | SUBJID &lt;int&gt; | AGE &lt;int&gt; | FEV &lt;dbl&gt; | HEIGHT &lt;dbl&gt; | SEX &lt;chr&gt; | SMOKE &lt;chr&gt; | is_teen &lt;dbl&gt; |\n|---|---|---|---|---|---|---|---|\n| 1 |  301 | 9 | 1.708 | 4.750000 | F | No | 0 |\n| 2 |  451 | 8 | 1.724 | 5.625000 | F | No | 0 |\n| 3 |  501 | 7 | 1.720 | 4.541667 | F | No | 0 |\n| 4 |  642 | 9 | 1.558 | 4.416667 | M | No | 0 |\n| 5 |  901 | 9 | 1.895 | 4.750000 | M | No | 0 |\n| 6 | 1701 | 8 | 2.336 | 5.083333 | F | No | 0 |\n\n",
            "text/latex": "A data.frame: 6 × 7\n\\begin{tabular}{r|lllllll}\n  & SUBJID & AGE & FEV & HEIGHT & SEX & SMOKE & is\\_teen\\\\\n  & <int> & <int> & <dbl> & <dbl> & <chr> & <chr> & <dbl>\\\\\n\\hline\n\t1 &  301 & 9 & 1.708 & 4.750000 & F & No & 0\\\\\n\t2 &  451 & 8 & 1.724 & 5.625000 & F & No & 0\\\\\n\t3 &  501 & 7 & 1.720 & 4.541667 & F & No & 0\\\\\n\t4 &  642 & 9 & 1.558 & 4.416667 & M & No & 0\\\\\n\t5 &  901 & 9 & 1.895 & 4.750000 & M & No & 0\\\\\n\t6 & 1701 & 8 & 2.336 & 5.083333 & F & No & 0\\\\\n\\end{tabular}\n",
            "text/plain": [
              "  SUBJID AGE FEV   HEIGHT   SEX SMOKE is_teen\n",
              "1  301   9   1.708 4.750000 F   No    0      \n",
              "2  451   8   1.724 5.625000 F   No    0      \n",
              "3  501   7   1.720 4.541667 F   No    0      \n",
              "4  642   9   1.558 4.416667 M   No    0      \n",
              "5  901   9   1.895 4.750000 M   No    0      \n",
              "6 1701   8   2.336 5.083333 F   No    0      "
            ]
          },
          "metadata": {}
        }
      ]
    },
    {
      "cell_type": "markdown",
      "source": [
        "...but this only has the first 6 rows!!!  How can we modify the code above to save the *entire* transformed data frame?"
      ],
      "metadata": {
        "id": "CapmFWGmj2oC"
      }
    },
    {
      "cell_type": "code",
      "source": [
        "fev_transformed <- (fev\n",
        "  %>% mutate(HEIGHT = HEIGHT / 12, is_teen = ifelse(AGE >=13, 1, 0))\n",
        "  #%>% head()\n",
        ")"
      ],
      "metadata": {
        "id": "zxPgGJLFNH_D"
      },
      "execution_count": null,
      "outputs": []
    },
    {
      "cell_type": "code",
      "source": [
        "fev_transformed"
      ],
      "metadata": {
        "colab": {
          "base_uri": "https://localhost:8080/",
          "height": 1000
        },
        "id": "AHvWtt52NKhr",
        "outputId": "b22efa03-5016-4504-a1bf-1ad41918bb64"
      },
      "execution_count": null,
      "outputs": [
        {
          "output_type": "display_data",
          "data": {
            "text/html": [
              "<table class=\"dataframe\">\n",
              "<caption>A data.frame: 654 × 7</caption>\n",
              "<thead>\n",
              "\t<tr><th scope=col>SUBJID</th><th scope=col>AGE</th><th scope=col>FEV</th><th scope=col>HEIGHT</th><th scope=col>SEX</th><th scope=col>SMOKE</th><th scope=col>is_teen</th></tr>\n",
              "\t<tr><th scope=col>&lt;int&gt;</th><th scope=col>&lt;int&gt;</th><th scope=col>&lt;dbl&gt;</th><th scope=col>&lt;dbl&gt;</th><th scope=col>&lt;chr&gt;</th><th scope=col>&lt;chr&gt;</th><th scope=col>&lt;dbl&gt;</th></tr>\n",
              "</thead>\n",
              "<tbody>\n",
              "\t<tr><td> 301</td><td>9</td><td>1.708</td><td>4.750000</td><td>F</td><td>No</td><td>0</td></tr>\n",
              "\t<tr><td> 451</td><td>8</td><td>1.724</td><td>5.625000</td><td>F</td><td>No</td><td>0</td></tr>\n",
              "\t<tr><td> 501</td><td>7</td><td>1.720</td><td>4.541667</td><td>F</td><td>No</td><td>0</td></tr>\n",
              "\t<tr><td> 642</td><td>9</td><td>1.558</td><td>4.416667</td><td>M</td><td>No</td><td>0</td></tr>\n",
              "\t<tr><td> 901</td><td>9</td><td>1.895</td><td>4.750000</td><td>M</td><td>No</td><td>0</td></tr>\n",
              "\t<tr><td>1701</td><td>8</td><td>2.336</td><td>5.083333</td><td>F</td><td>No</td><td>0</td></tr>\n",
              "\t<tr><td>1752</td><td>6</td><td>1.919</td><td>4.833333</td><td>F</td><td>No</td><td>0</td></tr>\n",
              "\t<tr><td>1753</td><td>6</td><td>1.415</td><td>4.666667</td><td>F</td><td>No</td><td>0</td></tr>\n",
              "\t<tr><td>1901</td><td>8</td><td>1.987</td><td>4.875000</td><td>F</td><td>No</td><td>0</td></tr>\n",
              "\t<tr><td>1951</td><td>9</td><td>1.942</td><td>5.000000</td><td>F</td><td>No</td><td>0</td></tr>\n",
              "\t<tr><td>1952</td><td>6</td><td>1.602</td><td>4.416667</td><td>F</td><td>No</td><td>0</td></tr>\n",
              "\t<tr><td>2001</td><td>8</td><td>1.735</td><td>4.500000</td><td>M</td><td>No</td><td>0</td></tr>\n",
              "\t<tr><td>2101</td><td>8</td><td>2.193</td><td>4.875000</td><td>F</td><td>No</td><td>0</td></tr>\n",
              "\t<tr><td>2401</td><td>8</td><td>2.118</td><td>5.041667</td><td>M</td><td>No</td><td>0</td></tr>\n",
              "\t<tr><td>3102</td><td>8</td><td>2.258</td><td>4.833333</td><td>M</td><td>No</td><td>0</td></tr>\n",
              "\t<tr><td>3142</td><td>7</td><td>1.932</td><td>4.416667</td><td>M</td><td>No</td><td>0</td></tr>\n",
              "\t<tr><td>3541</td><td>5</td><td>1.472</td><td>4.166667</td><td>M</td><td>No</td><td>0</td></tr>\n",
              "\t<tr><td>3551</td><td>6</td><td>1.878</td><td>4.416667</td><td>F</td><td>No</td><td>0</td></tr>\n",
              "\t<tr><td>4201</td><td>9</td><td>2.352</td><td>4.916667</td><td>M</td><td>No</td><td>0</td></tr>\n",
              "\t<tr><td>4301</td><td>9</td><td>2.604</td><td>5.125000</td><td>M</td><td>No</td><td>0</td></tr>\n",
              "\t<tr><td>4351</td><td>5</td><td>1.400</td><td>4.083333</td><td>F</td><td>No</td><td>0</td></tr>\n",
              "\t<tr><td>5151</td><td>5</td><td>1.256</td><td>4.375000</td><td>F</td><td>No</td><td>0</td></tr>\n",
              "\t<tr><td>5152</td><td>4</td><td>0.839</td><td>4.000000</td><td>F</td><td>No</td><td>0</td></tr>\n",
              "\t<tr><td>5201</td><td>7</td><td>2.578</td><td>5.208333</td><td>M</td><td>No</td><td>0</td></tr>\n",
              "\t<tr><td>5601</td><td>9</td><td>2.988</td><td>5.416667</td><td>F</td><td>No</td><td>0</td></tr>\n",
              "\t<tr><td>5642</td><td>3</td><td>1.404</td><td>4.291667</td><td>M</td><td>No</td><td>0</td></tr>\n",
              "\t<tr><td>5702</td><td>9</td><td>2.348</td><td>5.000000</td><td>M</td><td>No</td><td>0</td></tr>\n",
              "\t<tr><td>6042</td><td>5</td><td>1.755</td><td>4.333333</td><td>M</td><td>No</td><td>0</td></tr>\n",
              "\t<tr><td>6101</td><td>8</td><td>2.980</td><td>5.000000</td><td>F</td><td>No</td><td>0</td></tr>\n",
              "\t<tr><td>6801</td><td>9</td><td>2.100</td><td>5.000000</td><td>F</td><td>No</td><td>0</td></tr>\n",
              "\t<tr><td>⋮</td><td>⋮</td><td>⋮</td><td>⋮</td><td>⋮</td><td>⋮</td><td>⋮</td></tr>\n",
              "\t<tr><td>30041</td><td>15</td><td>3.985</td><td>5.916667</td><td>M</td><td>No </td><td>1</td></tr>\n",
              "\t<tr><td>30441</td><td>18</td><td>4.220</td><td>5.666667</td><td>M</td><td>No </td><td>1</td></tr>\n",
              "\t<tr><td>30442</td><td>17</td><td>4.724</td><td>5.875000</td><td>M</td><td>No </td><td>1</td></tr>\n",
              "\t<tr><td>33741</td><td>15</td><td>3.731</td><td>5.583333</td><td>M</td><td>No </td><td>1</td></tr>\n",
              "\t<tr><td>34241</td><td>17</td><td>3.406</td><td>5.750000</td><td>M</td><td>Yes</td><td>1</td></tr>\n",
              "\t<tr><td>37251</td><td>17</td><td>3.500</td><td>5.166667</td><td>F</td><td>No </td><td>1</td></tr>\n",
              "\t<tr><td>37252</td><td>16</td><td>3.674</td><td>5.625000</td><td>F</td><td>No </td><td>1</td></tr>\n",
              "\t<tr><td>37441</td><td>17</td><td>5.633</td><td>6.083333</td><td>M</td><td>No </td><td>1</td></tr>\n",
              "\t<tr><td>37451</td><td>15</td><td>3.122</td><td>5.333333</td><td>F</td><td>Yes</td><td>1</td></tr>\n",
              "\t<tr><td>39051</td><td>15</td><td>3.330</td><td>5.708333</td><td>F</td><td>Yes</td><td>1</td></tr>\n",
              "\t<tr><td>40351</td><td>16</td><td>2.608</td><td>5.166667</td><td>F</td><td>Yes</td><td>1</td></tr>\n",
              "\t<tr><td>44241</td><td>16</td><td>3.645</td><td>6.125000</td><td>M</td><td>No </td><td>1</td></tr>\n",
              "\t<tr><td>47241</td><td>15</td><td>3.799</td><td>5.541667</td><td>M</td><td>Yes</td><td>1</td></tr>\n",
              "\t<tr><td>48141</td><td>18</td><td>4.086</td><td>5.583333</td><td>M</td><td>Yes</td><td>1</td></tr>\n",
              "\t<tr><td>48152</td><td>15</td><td>2.887</td><td>5.250000</td><td>F</td><td>No </td><td>1</td></tr>\n",
              "\t<tr><td>48441</td><td>16</td><td>4.070</td><td>5.791667</td><td>M</td><td>Yes</td><td>1</td></tr>\n",
              "\t<tr><td>52841</td><td>17</td><td>3.960</td><td>5.833333</td><td>M</td><td>No </td><td>1</td></tr>\n",
              "\t<tr><td>52842</td><td>16</td><td>4.299</td><td>5.500000</td><td>M</td><td>No </td><td>1</td></tr>\n",
              "\t<tr><td>55951</td><td>16</td><td>2.981</td><td>5.500000</td><td>F</td><td>No </td><td>1</td></tr>\n",
              "\t<tr><td>57052</td><td>15</td><td>2.264</td><td>5.250000</td><td>F</td><td>Yes</td><td>1</td></tr>\n",
              "\t<tr><td>59944</td><td>18</td><td>4.404</td><td>5.875000</td><td>M</td><td>Yes</td><td>1</td></tr>\n",
              "\t<tr><td>61951</td><td>15</td><td>2.278</td><td>5.000000</td><td>F</td><td>Yes</td><td>1</td></tr>\n",
              "\t<tr><td>63241</td><td>16</td><td>4.504</td><td>6.000000</td><td>M</td><td>No </td><td>1</td></tr>\n",
              "\t<tr><td>71141</td><td>17</td><td>5.638</td><td>5.833333</td><td>M</td><td>No </td><td>1</td></tr>\n",
              "\t<tr><td>71142</td><td>16</td><td>4.872</td><td>6.000000</td><td>M</td><td>Yes</td><td>1</td></tr>\n",
              "\t<tr><td>73041</td><td>16</td><td>4.270</td><td>5.583333</td><td>M</td><td>Yes</td><td>1</td></tr>\n",
              "\t<tr><td>73042</td><td>15</td><td>3.727</td><td>5.666667</td><td>M</td><td>Yes</td><td>1</td></tr>\n",
              "\t<tr><td>73751</td><td>18</td><td>2.853</td><td>5.000000</td><td>F</td><td>No </td><td>1</td></tr>\n",
              "\t<tr><td>75852</td><td>16</td><td>2.795</td><td>5.250000</td><td>F</td><td>Yes</td><td>1</td></tr>\n",
              "\t<tr><td>77151</td><td>15</td><td>3.211</td><td>5.541667</td><td>F</td><td>No </td><td>1</td></tr>\n",
              "</tbody>\n",
              "</table>\n"
            ],
            "text/markdown": "\nA data.frame: 654 × 7\n\n| SUBJID &lt;int&gt; | AGE &lt;int&gt; | FEV &lt;dbl&gt; | HEIGHT &lt;dbl&gt; | SEX &lt;chr&gt; | SMOKE &lt;chr&gt; | is_teen &lt;dbl&gt; |\n|---|---|---|---|---|---|---|\n|  301 | 9 | 1.708 | 4.750000 | F | No | 0 |\n|  451 | 8 | 1.724 | 5.625000 | F | No | 0 |\n|  501 | 7 | 1.720 | 4.541667 | F | No | 0 |\n|  642 | 9 | 1.558 | 4.416667 | M | No | 0 |\n|  901 | 9 | 1.895 | 4.750000 | M | No | 0 |\n| 1701 | 8 | 2.336 | 5.083333 | F | No | 0 |\n| 1752 | 6 | 1.919 | 4.833333 | F | No | 0 |\n| 1753 | 6 | 1.415 | 4.666667 | F | No | 0 |\n| 1901 | 8 | 1.987 | 4.875000 | F | No | 0 |\n| 1951 | 9 | 1.942 | 5.000000 | F | No | 0 |\n| 1952 | 6 | 1.602 | 4.416667 | F | No | 0 |\n| 2001 | 8 | 1.735 | 4.500000 | M | No | 0 |\n| 2101 | 8 | 2.193 | 4.875000 | F | No | 0 |\n| 2401 | 8 | 2.118 | 5.041667 | M | No | 0 |\n| 3102 | 8 | 2.258 | 4.833333 | M | No | 0 |\n| 3142 | 7 | 1.932 | 4.416667 | M | No | 0 |\n| 3541 | 5 | 1.472 | 4.166667 | M | No | 0 |\n| 3551 | 6 | 1.878 | 4.416667 | F | No | 0 |\n| 4201 | 9 | 2.352 | 4.916667 | M | No | 0 |\n| 4301 | 9 | 2.604 | 5.125000 | M | No | 0 |\n| 4351 | 5 | 1.400 | 4.083333 | F | No | 0 |\n| 5151 | 5 | 1.256 | 4.375000 | F | No | 0 |\n| 5152 | 4 | 0.839 | 4.000000 | F | No | 0 |\n| 5201 | 7 | 2.578 | 5.208333 | M | No | 0 |\n| 5601 | 9 | 2.988 | 5.416667 | F | No | 0 |\n| 5642 | 3 | 1.404 | 4.291667 | M | No | 0 |\n| 5702 | 9 | 2.348 | 5.000000 | M | No | 0 |\n| 6042 | 5 | 1.755 | 4.333333 | M | No | 0 |\n| 6101 | 8 | 2.980 | 5.000000 | F | No | 0 |\n| 6801 | 9 | 2.100 | 5.000000 | F | No | 0 |\n| ⋮ | ⋮ | ⋮ | ⋮ | ⋮ | ⋮ | ⋮ |\n| 30041 | 15 | 3.985 | 5.916667 | M | No  | 1 |\n| 30441 | 18 | 4.220 | 5.666667 | M | No  | 1 |\n| 30442 | 17 | 4.724 | 5.875000 | M | No  | 1 |\n| 33741 | 15 | 3.731 | 5.583333 | M | No  | 1 |\n| 34241 | 17 | 3.406 | 5.750000 | M | Yes | 1 |\n| 37251 | 17 | 3.500 | 5.166667 | F | No  | 1 |\n| 37252 | 16 | 3.674 | 5.625000 | F | No  | 1 |\n| 37441 | 17 | 5.633 | 6.083333 | M | No  | 1 |\n| 37451 | 15 | 3.122 | 5.333333 | F | Yes | 1 |\n| 39051 | 15 | 3.330 | 5.708333 | F | Yes | 1 |\n| 40351 | 16 | 2.608 | 5.166667 | F | Yes | 1 |\n| 44241 | 16 | 3.645 | 6.125000 | M | No  | 1 |\n| 47241 | 15 | 3.799 | 5.541667 | M | Yes | 1 |\n| 48141 | 18 | 4.086 | 5.583333 | M | Yes | 1 |\n| 48152 | 15 | 2.887 | 5.250000 | F | No  | 1 |\n| 48441 | 16 | 4.070 | 5.791667 | M | Yes | 1 |\n| 52841 | 17 | 3.960 | 5.833333 | M | No  | 1 |\n| 52842 | 16 | 4.299 | 5.500000 | M | No  | 1 |\n| 55951 | 16 | 2.981 | 5.500000 | F | No  | 1 |\n| 57052 | 15 | 2.264 | 5.250000 | F | Yes | 1 |\n| 59944 | 18 | 4.404 | 5.875000 | M | Yes | 1 |\n| 61951 | 15 | 2.278 | 5.000000 | F | Yes | 1 |\n| 63241 | 16 | 4.504 | 6.000000 | M | No  | 1 |\n| 71141 | 17 | 5.638 | 5.833333 | M | No  | 1 |\n| 71142 | 16 | 4.872 | 6.000000 | M | Yes | 1 |\n| 73041 | 16 | 4.270 | 5.583333 | M | Yes | 1 |\n| 73042 | 15 | 3.727 | 5.666667 | M | Yes | 1 |\n| 73751 | 18 | 2.853 | 5.000000 | F | No  | 1 |\n| 75852 | 16 | 2.795 | 5.250000 | F | Yes | 1 |\n| 77151 | 15 | 3.211 | 5.541667 | F | No  | 1 |\n\n",
            "text/latex": "A data.frame: 654 × 7\n\\begin{tabular}{lllllll}\n SUBJID & AGE & FEV & HEIGHT & SEX & SMOKE & is\\_teen\\\\\n <int> & <int> & <dbl> & <dbl> & <chr> & <chr> & <dbl>\\\\\n\\hline\n\t  301 & 9 & 1.708 & 4.750000 & F & No & 0\\\\\n\t  451 & 8 & 1.724 & 5.625000 & F & No & 0\\\\\n\t  501 & 7 & 1.720 & 4.541667 & F & No & 0\\\\\n\t  642 & 9 & 1.558 & 4.416667 & M & No & 0\\\\\n\t  901 & 9 & 1.895 & 4.750000 & M & No & 0\\\\\n\t 1701 & 8 & 2.336 & 5.083333 & F & No & 0\\\\\n\t 1752 & 6 & 1.919 & 4.833333 & F & No & 0\\\\\n\t 1753 & 6 & 1.415 & 4.666667 & F & No & 0\\\\\n\t 1901 & 8 & 1.987 & 4.875000 & F & No & 0\\\\\n\t 1951 & 9 & 1.942 & 5.000000 & F & No & 0\\\\\n\t 1952 & 6 & 1.602 & 4.416667 & F & No & 0\\\\\n\t 2001 & 8 & 1.735 & 4.500000 & M & No & 0\\\\\n\t 2101 & 8 & 2.193 & 4.875000 & F & No & 0\\\\\n\t 2401 & 8 & 2.118 & 5.041667 & M & No & 0\\\\\n\t 3102 & 8 & 2.258 & 4.833333 & M & No & 0\\\\\n\t 3142 & 7 & 1.932 & 4.416667 & M & No & 0\\\\\n\t 3541 & 5 & 1.472 & 4.166667 & M & No & 0\\\\\n\t 3551 & 6 & 1.878 & 4.416667 & F & No & 0\\\\\n\t 4201 & 9 & 2.352 & 4.916667 & M & No & 0\\\\\n\t 4301 & 9 & 2.604 & 5.125000 & M & No & 0\\\\\n\t 4351 & 5 & 1.400 & 4.083333 & F & No & 0\\\\\n\t 5151 & 5 & 1.256 & 4.375000 & F & No & 0\\\\\n\t 5152 & 4 & 0.839 & 4.000000 & F & No & 0\\\\\n\t 5201 & 7 & 2.578 & 5.208333 & M & No & 0\\\\\n\t 5601 & 9 & 2.988 & 5.416667 & F & No & 0\\\\\n\t 5642 & 3 & 1.404 & 4.291667 & M & No & 0\\\\\n\t 5702 & 9 & 2.348 & 5.000000 & M & No & 0\\\\\n\t 6042 & 5 & 1.755 & 4.333333 & M & No & 0\\\\\n\t 6101 & 8 & 2.980 & 5.000000 & F & No & 0\\\\\n\t 6801 & 9 & 2.100 & 5.000000 & F & No & 0\\\\\n\t ⋮ & ⋮ & ⋮ & ⋮ & ⋮ & ⋮ & ⋮\\\\\n\t 30041 & 15 & 3.985 & 5.916667 & M & No  & 1\\\\\n\t 30441 & 18 & 4.220 & 5.666667 & M & No  & 1\\\\\n\t 30442 & 17 & 4.724 & 5.875000 & M & No  & 1\\\\\n\t 33741 & 15 & 3.731 & 5.583333 & M & No  & 1\\\\\n\t 34241 & 17 & 3.406 & 5.750000 & M & Yes & 1\\\\\n\t 37251 & 17 & 3.500 & 5.166667 & F & No  & 1\\\\\n\t 37252 & 16 & 3.674 & 5.625000 & F & No  & 1\\\\\n\t 37441 & 17 & 5.633 & 6.083333 & M & No  & 1\\\\\n\t 37451 & 15 & 3.122 & 5.333333 & F & Yes & 1\\\\\n\t 39051 & 15 & 3.330 & 5.708333 & F & Yes & 1\\\\\n\t 40351 & 16 & 2.608 & 5.166667 & F & Yes & 1\\\\\n\t 44241 & 16 & 3.645 & 6.125000 & M & No  & 1\\\\\n\t 47241 & 15 & 3.799 & 5.541667 & M & Yes & 1\\\\\n\t 48141 & 18 & 4.086 & 5.583333 & M & Yes & 1\\\\\n\t 48152 & 15 & 2.887 & 5.250000 & F & No  & 1\\\\\n\t 48441 & 16 & 4.070 & 5.791667 & M & Yes & 1\\\\\n\t 52841 & 17 & 3.960 & 5.833333 & M & No  & 1\\\\\n\t 52842 & 16 & 4.299 & 5.500000 & M & No  & 1\\\\\n\t 55951 & 16 & 2.981 & 5.500000 & F & No  & 1\\\\\n\t 57052 & 15 & 2.264 & 5.250000 & F & Yes & 1\\\\\n\t 59944 & 18 & 4.404 & 5.875000 & M & Yes & 1\\\\\n\t 61951 & 15 & 2.278 & 5.000000 & F & Yes & 1\\\\\n\t 63241 & 16 & 4.504 & 6.000000 & M & No  & 1\\\\\n\t 71141 & 17 & 5.638 & 5.833333 & M & No  & 1\\\\\n\t 71142 & 16 & 4.872 & 6.000000 & M & Yes & 1\\\\\n\t 73041 & 16 & 4.270 & 5.583333 & M & Yes & 1\\\\\n\t 73042 & 15 & 3.727 & 5.666667 & M & Yes & 1\\\\\n\t 73751 & 18 & 2.853 & 5.000000 & F & No  & 1\\\\\n\t 75852 & 16 & 2.795 & 5.250000 & F & Yes & 1\\\\\n\t 77151 & 15 & 3.211 & 5.541667 & F & No  & 1\\\\\n\\end{tabular}\n",
            "text/plain": [
              "    SUBJID AGE FEV   HEIGHT   SEX SMOKE is_teen\n",
              "1    301   9   1.708 4.750000 F   No    0      \n",
              "2    451   8   1.724 5.625000 F   No    0      \n",
              "3    501   7   1.720 4.541667 F   No    0      \n",
              "4    642   9   1.558 4.416667 M   No    0      \n",
              "5    901   9   1.895 4.750000 M   No    0      \n",
              "6   1701   8   2.336 5.083333 F   No    0      \n",
              "7   1752   6   1.919 4.833333 F   No    0      \n",
              "8   1753   6   1.415 4.666667 F   No    0      \n",
              "9   1901   8   1.987 4.875000 F   No    0      \n",
              "10  1951   9   1.942 5.000000 F   No    0      \n",
              "11  1952   6   1.602 4.416667 F   No    0      \n",
              "12  2001   8   1.735 4.500000 M   No    0      \n",
              "13  2101   8   2.193 4.875000 F   No    0      \n",
              "14  2401   8   2.118 5.041667 M   No    0      \n",
              "15  3102   8   2.258 4.833333 M   No    0      \n",
              "16  3142   7   1.932 4.416667 M   No    0      \n",
              "17  3541   5   1.472 4.166667 M   No    0      \n",
              "18  3551   6   1.878 4.416667 F   No    0      \n",
              "19  4201   9   2.352 4.916667 M   No    0      \n",
              "20  4301   9   2.604 5.125000 M   No    0      \n",
              "21  4351   5   1.400 4.083333 F   No    0      \n",
              "22  5151   5   1.256 4.375000 F   No    0      \n",
              "23  5152   4   0.839 4.000000 F   No    0      \n",
              "24  5201   7   2.578 5.208333 M   No    0      \n",
              "25  5601   9   2.988 5.416667 F   No    0      \n",
              "26  5642   3   1.404 4.291667 M   No    0      \n",
              "27  5702   9   2.348 5.000000 M   No    0      \n",
              "28  6042   5   1.755 4.333333 M   No    0      \n",
              "29  6101   8   2.980 5.000000 F   No    0      \n",
              "30  6801   9   2.100 5.000000 F   No    0      \n",
              "⋮   ⋮      ⋮   ⋮     ⋮        ⋮   ⋮     ⋮      \n",
              "625 30041  15  3.985 5.916667 M   No    1      \n",
              "626 30441  18  4.220 5.666667 M   No    1      \n",
              "627 30442  17  4.724 5.875000 M   No    1      \n",
              "628 33741  15  3.731 5.583333 M   No    1      \n",
              "629 34241  17  3.406 5.750000 M   Yes   1      \n",
              "630 37251  17  3.500 5.166667 F   No    1      \n",
              "631 37252  16  3.674 5.625000 F   No    1      \n",
              "632 37441  17  5.633 6.083333 M   No    1      \n",
              "633 37451  15  3.122 5.333333 F   Yes   1      \n",
              "634 39051  15  3.330 5.708333 F   Yes   1      \n",
              "635 40351  16  2.608 5.166667 F   Yes   1      \n",
              "636 44241  16  3.645 6.125000 M   No    1      \n",
              "637 47241  15  3.799 5.541667 M   Yes   1      \n",
              "638 48141  18  4.086 5.583333 M   Yes   1      \n",
              "639 48152  15  2.887 5.250000 F   No    1      \n",
              "640 48441  16  4.070 5.791667 M   Yes   1      \n",
              "641 52841  17  3.960 5.833333 M   No    1      \n",
              "642 52842  16  4.299 5.500000 M   No    1      \n",
              "643 55951  16  2.981 5.500000 F   No    1      \n",
              "644 57052  15  2.264 5.250000 F   Yes   1      \n",
              "645 59944  18  4.404 5.875000 M   Yes   1      \n",
              "646 61951  15  2.278 5.000000 F   Yes   1      \n",
              "647 63241  16  4.504 6.000000 M   No    1      \n",
              "648 71141  17  5.638 5.833333 M   No    1      \n",
              "649 71142  16  4.872 6.000000 M   Yes   1      \n",
              "650 73041  16  4.270 5.583333 M   Yes   1      \n",
              "651 73042  15  3.727 5.666667 M   Yes   1      \n",
              "652 73751  18  2.853 5.000000 F   No    1      \n",
              "653 75852  16  2.795 5.250000 F   Yes   1      \n",
              "654 77151  15  3.211 5.541667 F   No    1      "
            ]
          },
          "metadata": {}
        }
      ]
    },
    {
      "cell_type": "markdown",
      "source": [
        "## `filter()`\n",
        "\n",
        "`filter()` filters the data frame to only the rows that meet some condition.  The code below filters to only females at least 5 feet (60 inches) tall:"
      ],
      "metadata": {
        "id": "zYtLW5K9kGSN"
      }
    },
    {
      "cell_type": "code",
      "source": [
        "(fev\n",
        "  %>% filter(SEX=='F')\n",
        "  %>% filter(HEIGHT >= 60)\n",
        ")"
      ],
      "metadata": {
        "id": "sWg0Xh1MkOnz",
        "colab": {
          "base_uri": "https://localhost:8080/",
          "height": 1000
        },
        "outputId": "72d8475a-98e0-45dd-edc0-fc5f0bddd60e"
      },
      "execution_count": null,
      "outputs": [
        {
          "output_type": "display_data",
          "data": {
            "text/html": [
              "<table class=\"dataframe\">\n",
              "<caption>A data.frame: 199 × 6</caption>\n",
              "<thead>\n",
              "\t<tr><th scope=col>SUBJID</th><th scope=col>AGE</th><th scope=col>FEV</th><th scope=col>HEIGHT</th><th scope=col>SEX</th><th scope=col>SMOKE</th></tr>\n",
              "\t<tr><th scope=col>&lt;int&gt;</th><th scope=col>&lt;int&gt;</th><th scope=col>&lt;dbl&gt;</th><th scope=col>&lt;dbl&gt;</th><th scope=col>&lt;chr&gt;</th><th scope=col>&lt;chr&gt;</th></tr>\n",
              "</thead>\n",
              "<tbody>\n",
              "\t<tr><td>  451</td><td>8</td><td>1.724</td><td>67.5</td><td>F</td><td>No</td></tr>\n",
              "\t<tr><td> 1701</td><td>8</td><td>2.336</td><td>61.0</td><td>F</td><td>No</td></tr>\n",
              "\t<tr><td> 1951</td><td>9</td><td>1.942</td><td>60.0</td><td>F</td><td>No</td></tr>\n",
              "\t<tr><td> 5601</td><td>9</td><td>2.988</td><td>65.0</td><td>F</td><td>No</td></tr>\n",
              "\t<tr><td> 6101</td><td>8</td><td>2.980</td><td>60.0</td><td>F</td><td>No</td></tr>\n",
              "\t<tr><td> 6801</td><td>9</td><td>2.100</td><td>60.0</td><td>F</td><td>No</td></tr>\n",
              "\t<tr><td> 7251</td><td>8</td><td>2.673</td><td>60.0</td><td>F</td><td>No</td></tr>\n",
              "\t<tr><td> 9501</td><td>9</td><td>3.135</td><td>60.0</td><td>F</td><td>No</td></tr>\n",
              "\t<tr><td>11501</td><td>9</td><td>2.797</td><td>61.5</td><td>F</td><td>No</td></tr>\n",
              "\t<tr><td>13351</td><td>9</td><td>3.016</td><td>62.5</td><td>F</td><td>No</td></tr>\n",
              "\t<tr><td>13701</td><td>7</td><td>2.419</td><td>60.0</td><td>F</td><td>No</td></tr>\n",
              "\t<tr><td>14201</td><td>8</td><td>2.481</td><td>60.0</td><td>F</td><td>No</td></tr>\n",
              "\t<tr><td>15201</td><td>9</td><td>2.560</td><td>60.5</td><td>F</td><td>No</td></tr>\n",
              "\t<tr><td>18101</td><td>8</td><td>2.144</td><td>63.0</td><td>F</td><td>No</td></tr>\n",
              "\t<tr><td>20152</td><td>9</td><td>3.029</td><td>61.5</td><td>F</td><td>No</td></tr>\n",
              "\t<tr><td>21552</td><td>8</td><td>2.215</td><td>60.0</td><td>F</td><td>No</td></tr>\n",
              "\t<tr><td>22201</td><td>8</td><td>2.388</td><td>60.0</td><td>F</td><td>No</td></tr>\n",
              "\t<tr><td>23902</td><td>9</td><td>2.574</td><td>60.5</td><td>F</td><td>No</td></tr>\n",
              "\t<tr><td>28452</td><td>8</td><td>2.341</td><td>60.5</td><td>F</td><td>No</td></tr>\n",
              "\t<tr><td>30001</td><td>8</td><td>2.458</td><td>61.0</td><td>F</td><td>No</td></tr>\n",
              "\t<tr><td>32751</td><td>8</td><td>2.288</td><td>61.5</td><td>F</td><td>No</td></tr>\n",
              "\t<tr><td>33601</td><td>9</td><td>2.463</td><td>61.0</td><td>F</td><td>No</td></tr>\n",
              "\t<tr><td>33801</td><td>9</td><td>2.631</td><td>62.0</td><td>F</td><td>No</td></tr>\n",
              "\t<tr><td>35103</td><td>9</td><td>3.042</td><td>66.0</td><td>F</td><td>No</td></tr>\n",
              "\t<tr><td>37201</td><td>8</td><td>2.665</td><td>64.0</td><td>F</td><td>No</td></tr>\n",
              "\t<tr><td>38051</td><td>9</td><td>2.592</td><td>60.5</td><td>F</td><td>No</td></tr>\n",
              "\t<tr><td>39001</td><td>9</td><td>2.048</td><td>64.5</td><td>F</td><td>No</td></tr>\n",
              "\t<tr><td>39801</td><td>9</td><td>2.851</td><td>60.0</td><td>F</td><td>No</td></tr>\n",
              "\t<tr><td>42101</td><td>9</td><td>3.004</td><td>64.0</td><td>F</td><td>No</td></tr>\n",
              "\t<tr><td>44701</td><td>8</td><td>2.187</td><td>61.5</td><td>F</td><td>No</td></tr>\n",
              "\t<tr><td>⋮</td><td>⋮</td><td>⋮</td><td>⋮</td><td>⋮</td><td>⋮</td></tr>\n",
              "\t<tr><td>77601</td><td>11</td><td>2.562</td><td>62.5</td><td>F</td><td>No </td></tr>\n",
              "\t<tr><td>80051</td><td>12</td><td>3.082</td><td>64.5</td><td>F</td><td>No </td></tr>\n",
              "\t<tr><td>80651</td><td>13</td><td>3.152</td><td>62.0</td><td>F</td><td>Yes</td></tr>\n",
              "\t<tr><td>81201</td><td>11</td><td>2.458</td><td>60.0</td><td>F</td><td>No </td></tr>\n",
              "\t<tr><td>81551</td><td>13</td><td>3.141</td><td>61.0</td><td>F</td><td>No </td></tr>\n",
              "\t<tr><td>81552</td><td>12</td><td>2.579</td><td>63.0</td><td>F</td><td>No </td></tr>\n",
              "\t<tr><td>81701</td><td>11</td><td>3.104</td><td>67.5</td><td>F</td><td>Yes</td></tr>\n",
              "\t<tr><td>83951</td><td>11</td><td>3.069</td><td>65.0</td><td>F</td><td>Yes</td></tr>\n",
              "\t<tr><td> 4051</td><td>18</td><td>2.906</td><td>66.0</td><td>F</td><td>No </td></tr>\n",
              "\t<tr><td> 6252</td><td>19</td><td>3.519</td><td>66.0</td><td>F</td><td>Yes</td></tr>\n",
              "\t<tr><td>15351</td><td>15</td><td>2.635</td><td>64.0</td><td>F</td><td>No </td></tr>\n",
              "\t<tr><td>15752</td><td>15</td><td>2.679</td><td>66.0</td><td>F</td><td>Yes</td></tr>\n",
              "\t<tr><td>20151</td><td>15</td><td>2.198</td><td>62.0</td><td>F</td><td>Yes</td></tr>\n",
              "\t<tr><td>21351</td><td>19</td><td>3.345</td><td>65.5</td><td>F</td><td>Yes</td></tr>\n",
              "\t<tr><td>22251</td><td>18</td><td>3.082</td><td>64.5</td><td>F</td><td>No </td></tr>\n",
              "\t<tr><td>22252</td><td>16</td><td>3.387</td><td>66.5</td><td>F</td><td>No </td></tr>\n",
              "\t<tr><td>24552</td><td>16</td><td>2.903</td><td>63.0</td><td>F</td><td>Yes</td></tr>\n",
              "\t<tr><td>24553</td><td>15</td><td>3.004</td><td>64.0</td><td>F</td><td>Yes</td></tr>\n",
              "\t<tr><td>37251</td><td>17</td><td>3.500</td><td>62.0</td><td>F</td><td>No </td></tr>\n",
              "\t<tr><td>37252</td><td>16</td><td>3.674</td><td>67.5</td><td>F</td><td>No </td></tr>\n",
              "\t<tr><td>37451</td><td>15</td><td>3.122</td><td>64.0</td><td>F</td><td>Yes</td></tr>\n",
              "\t<tr><td>39051</td><td>15</td><td>3.330</td><td>68.5</td><td>F</td><td>Yes</td></tr>\n",
              "\t<tr><td>40351</td><td>16</td><td>2.608</td><td>62.0</td><td>F</td><td>Yes</td></tr>\n",
              "\t<tr><td>48152</td><td>15</td><td>2.887</td><td>63.0</td><td>F</td><td>No </td></tr>\n",
              "\t<tr><td>55951</td><td>16</td><td>2.981</td><td>66.0</td><td>F</td><td>No </td></tr>\n",
              "\t<tr><td>57052</td><td>15</td><td>2.264</td><td>63.0</td><td>F</td><td>Yes</td></tr>\n",
              "\t<tr><td>61951</td><td>15</td><td>2.278</td><td>60.0</td><td>F</td><td>Yes</td></tr>\n",
              "\t<tr><td>73751</td><td>18</td><td>2.853</td><td>60.0</td><td>F</td><td>No </td></tr>\n",
              "\t<tr><td>75852</td><td>16</td><td>2.795</td><td>63.0</td><td>F</td><td>Yes</td></tr>\n",
              "\t<tr><td>77151</td><td>15</td><td>3.211</td><td>66.5</td><td>F</td><td>No </td></tr>\n",
              "</tbody>\n",
              "</table>\n"
            ],
            "text/markdown": "\nA data.frame: 199 × 6\n\n| SUBJID &lt;int&gt; | AGE &lt;int&gt; | FEV &lt;dbl&gt; | HEIGHT &lt;dbl&gt; | SEX &lt;chr&gt; | SMOKE &lt;chr&gt; |\n|---|---|---|---|---|---|\n|   451 | 8 | 1.724 | 67.5 | F | No |\n|  1701 | 8 | 2.336 | 61.0 | F | No |\n|  1951 | 9 | 1.942 | 60.0 | F | No |\n|  5601 | 9 | 2.988 | 65.0 | F | No |\n|  6101 | 8 | 2.980 | 60.0 | F | No |\n|  6801 | 9 | 2.100 | 60.0 | F | No |\n|  7251 | 8 | 2.673 | 60.0 | F | No |\n|  9501 | 9 | 3.135 | 60.0 | F | No |\n| 11501 | 9 | 2.797 | 61.5 | F | No |\n| 13351 | 9 | 3.016 | 62.5 | F | No |\n| 13701 | 7 | 2.419 | 60.0 | F | No |\n| 14201 | 8 | 2.481 | 60.0 | F | No |\n| 15201 | 9 | 2.560 | 60.5 | F | No |\n| 18101 | 8 | 2.144 | 63.0 | F | No |\n| 20152 | 9 | 3.029 | 61.5 | F | No |\n| 21552 | 8 | 2.215 | 60.0 | F | No |\n| 22201 | 8 | 2.388 | 60.0 | F | No |\n| 23902 | 9 | 2.574 | 60.5 | F | No |\n| 28452 | 8 | 2.341 | 60.5 | F | No |\n| 30001 | 8 | 2.458 | 61.0 | F | No |\n| 32751 | 8 | 2.288 | 61.5 | F | No |\n| 33601 | 9 | 2.463 | 61.0 | F | No |\n| 33801 | 9 | 2.631 | 62.0 | F | No |\n| 35103 | 9 | 3.042 | 66.0 | F | No |\n| 37201 | 8 | 2.665 | 64.0 | F | No |\n| 38051 | 9 | 2.592 | 60.5 | F | No |\n| 39001 | 9 | 2.048 | 64.5 | F | No |\n| 39801 | 9 | 2.851 | 60.0 | F | No |\n| 42101 | 9 | 3.004 | 64.0 | F | No |\n| 44701 | 8 | 2.187 | 61.5 | F | No |\n| ⋮ | ⋮ | ⋮ | ⋮ | ⋮ | ⋮ |\n| 77601 | 11 | 2.562 | 62.5 | F | No  |\n| 80051 | 12 | 3.082 | 64.5 | F | No  |\n| 80651 | 13 | 3.152 | 62.0 | F | Yes |\n| 81201 | 11 | 2.458 | 60.0 | F | No  |\n| 81551 | 13 | 3.141 | 61.0 | F | No  |\n| 81552 | 12 | 2.579 | 63.0 | F | No  |\n| 81701 | 11 | 3.104 | 67.5 | F | Yes |\n| 83951 | 11 | 3.069 | 65.0 | F | Yes |\n|  4051 | 18 | 2.906 | 66.0 | F | No  |\n|  6252 | 19 | 3.519 | 66.0 | F | Yes |\n| 15351 | 15 | 2.635 | 64.0 | F | No  |\n| 15752 | 15 | 2.679 | 66.0 | F | Yes |\n| 20151 | 15 | 2.198 | 62.0 | F | Yes |\n| 21351 | 19 | 3.345 | 65.5 | F | Yes |\n| 22251 | 18 | 3.082 | 64.5 | F | No  |\n| 22252 | 16 | 3.387 | 66.5 | F | No  |\n| 24552 | 16 | 2.903 | 63.0 | F | Yes |\n| 24553 | 15 | 3.004 | 64.0 | F | Yes |\n| 37251 | 17 | 3.500 | 62.0 | F | No  |\n| 37252 | 16 | 3.674 | 67.5 | F | No  |\n| 37451 | 15 | 3.122 | 64.0 | F | Yes |\n| 39051 | 15 | 3.330 | 68.5 | F | Yes |\n| 40351 | 16 | 2.608 | 62.0 | F | Yes |\n| 48152 | 15 | 2.887 | 63.0 | F | No  |\n| 55951 | 16 | 2.981 | 66.0 | F | No  |\n| 57052 | 15 | 2.264 | 63.0 | F | Yes |\n| 61951 | 15 | 2.278 | 60.0 | F | Yes |\n| 73751 | 18 | 2.853 | 60.0 | F | No  |\n| 75852 | 16 | 2.795 | 63.0 | F | Yes |\n| 77151 | 15 | 3.211 | 66.5 | F | No  |\n\n",
            "text/latex": "A data.frame: 199 × 6\n\\begin{tabular}{llllll}\n SUBJID & AGE & FEV & HEIGHT & SEX & SMOKE\\\\\n <int> & <int> & <dbl> & <dbl> & <chr> & <chr>\\\\\n\\hline\n\t   451 & 8 & 1.724 & 67.5 & F & No\\\\\n\t  1701 & 8 & 2.336 & 61.0 & F & No\\\\\n\t  1951 & 9 & 1.942 & 60.0 & F & No\\\\\n\t  5601 & 9 & 2.988 & 65.0 & F & No\\\\\n\t  6101 & 8 & 2.980 & 60.0 & F & No\\\\\n\t  6801 & 9 & 2.100 & 60.0 & F & No\\\\\n\t  7251 & 8 & 2.673 & 60.0 & F & No\\\\\n\t  9501 & 9 & 3.135 & 60.0 & F & No\\\\\n\t 11501 & 9 & 2.797 & 61.5 & F & No\\\\\n\t 13351 & 9 & 3.016 & 62.5 & F & No\\\\\n\t 13701 & 7 & 2.419 & 60.0 & F & No\\\\\n\t 14201 & 8 & 2.481 & 60.0 & F & No\\\\\n\t 15201 & 9 & 2.560 & 60.5 & F & No\\\\\n\t 18101 & 8 & 2.144 & 63.0 & F & No\\\\\n\t 20152 & 9 & 3.029 & 61.5 & F & No\\\\\n\t 21552 & 8 & 2.215 & 60.0 & F & No\\\\\n\t 22201 & 8 & 2.388 & 60.0 & F & No\\\\\n\t 23902 & 9 & 2.574 & 60.5 & F & No\\\\\n\t 28452 & 8 & 2.341 & 60.5 & F & No\\\\\n\t 30001 & 8 & 2.458 & 61.0 & F & No\\\\\n\t 32751 & 8 & 2.288 & 61.5 & F & No\\\\\n\t 33601 & 9 & 2.463 & 61.0 & F & No\\\\\n\t 33801 & 9 & 2.631 & 62.0 & F & No\\\\\n\t 35103 & 9 & 3.042 & 66.0 & F & No\\\\\n\t 37201 & 8 & 2.665 & 64.0 & F & No\\\\\n\t 38051 & 9 & 2.592 & 60.5 & F & No\\\\\n\t 39001 & 9 & 2.048 & 64.5 & F & No\\\\\n\t 39801 & 9 & 2.851 & 60.0 & F & No\\\\\n\t 42101 & 9 & 3.004 & 64.0 & F & No\\\\\n\t 44701 & 8 & 2.187 & 61.5 & F & No\\\\\n\t ⋮ & ⋮ & ⋮ & ⋮ & ⋮ & ⋮\\\\\n\t 77601 & 11 & 2.562 & 62.5 & F & No \\\\\n\t 80051 & 12 & 3.082 & 64.5 & F & No \\\\\n\t 80651 & 13 & 3.152 & 62.0 & F & Yes\\\\\n\t 81201 & 11 & 2.458 & 60.0 & F & No \\\\\n\t 81551 & 13 & 3.141 & 61.0 & F & No \\\\\n\t 81552 & 12 & 2.579 & 63.0 & F & No \\\\\n\t 81701 & 11 & 3.104 & 67.5 & F & Yes\\\\\n\t 83951 & 11 & 3.069 & 65.0 & F & Yes\\\\\n\t  4051 & 18 & 2.906 & 66.0 & F & No \\\\\n\t  6252 & 19 & 3.519 & 66.0 & F & Yes\\\\\n\t 15351 & 15 & 2.635 & 64.0 & F & No \\\\\n\t 15752 & 15 & 2.679 & 66.0 & F & Yes\\\\\n\t 20151 & 15 & 2.198 & 62.0 & F & Yes\\\\\n\t 21351 & 19 & 3.345 & 65.5 & F & Yes\\\\\n\t 22251 & 18 & 3.082 & 64.5 & F & No \\\\\n\t 22252 & 16 & 3.387 & 66.5 & F & No \\\\\n\t 24552 & 16 & 2.903 & 63.0 & F & Yes\\\\\n\t 24553 & 15 & 3.004 & 64.0 & F & Yes\\\\\n\t 37251 & 17 & 3.500 & 62.0 & F & No \\\\\n\t 37252 & 16 & 3.674 & 67.5 & F & No \\\\\n\t 37451 & 15 & 3.122 & 64.0 & F & Yes\\\\\n\t 39051 & 15 & 3.330 & 68.5 & F & Yes\\\\\n\t 40351 & 16 & 2.608 & 62.0 & F & Yes\\\\\n\t 48152 & 15 & 2.887 & 63.0 & F & No \\\\\n\t 55951 & 16 & 2.981 & 66.0 & F & No \\\\\n\t 57052 & 15 & 2.264 & 63.0 & F & Yes\\\\\n\t 61951 & 15 & 2.278 & 60.0 & F & Yes\\\\\n\t 73751 & 18 & 2.853 & 60.0 & F & No \\\\\n\t 75852 & 16 & 2.795 & 63.0 & F & Yes\\\\\n\t 77151 & 15 & 3.211 & 66.5 & F & No \\\\\n\\end{tabular}\n",
            "text/plain": [
              "    SUBJID AGE FEV   HEIGHT SEX SMOKE\n",
              "1     451  8   1.724 67.5   F   No   \n",
              "2    1701  8   2.336 61.0   F   No   \n",
              "3    1951  9   1.942 60.0   F   No   \n",
              "4    5601  9   2.988 65.0   F   No   \n",
              "5    6101  8   2.980 60.0   F   No   \n",
              "6    6801  9   2.100 60.0   F   No   \n",
              "7    7251  8   2.673 60.0   F   No   \n",
              "8    9501  9   3.135 60.0   F   No   \n",
              "9   11501  9   2.797 61.5   F   No   \n",
              "10  13351  9   3.016 62.5   F   No   \n",
              "11  13701  7   2.419 60.0   F   No   \n",
              "12  14201  8   2.481 60.0   F   No   \n",
              "13  15201  9   2.560 60.5   F   No   \n",
              "14  18101  8   2.144 63.0   F   No   \n",
              "15  20152  9   3.029 61.5   F   No   \n",
              "16  21552  8   2.215 60.0   F   No   \n",
              "17  22201  8   2.388 60.0   F   No   \n",
              "18  23902  9   2.574 60.5   F   No   \n",
              "19  28452  8   2.341 60.5   F   No   \n",
              "20  30001  8   2.458 61.0   F   No   \n",
              "21  32751  8   2.288 61.5   F   No   \n",
              "22  33601  9   2.463 61.0   F   No   \n",
              "23  33801  9   2.631 62.0   F   No   \n",
              "24  35103  9   3.042 66.0   F   No   \n",
              "25  37201  8   2.665 64.0   F   No   \n",
              "26  38051  9   2.592 60.5   F   No   \n",
              "27  39001  9   2.048 64.5   F   No   \n",
              "28  39801  9   2.851 60.0   F   No   \n",
              "29  42101  9   3.004 64.0   F   No   \n",
              "30  44701  8   2.187 61.5   F   No   \n",
              "⋮   ⋮      ⋮   ⋮     ⋮      ⋮   ⋮    \n",
              "170 77601  11  2.562 62.5   F   No   \n",
              "171 80051  12  3.082 64.5   F   No   \n",
              "172 80651  13  3.152 62.0   F   Yes  \n",
              "173 81201  11  2.458 60.0   F   No   \n",
              "174 81551  13  3.141 61.0   F   No   \n",
              "175 81552  12  2.579 63.0   F   No   \n",
              "176 81701  11  3.104 67.5   F   Yes  \n",
              "177 83951  11  3.069 65.0   F   Yes  \n",
              "178  4051  18  2.906 66.0   F   No   \n",
              "179  6252  19  3.519 66.0   F   Yes  \n",
              "180 15351  15  2.635 64.0   F   No   \n",
              "181 15752  15  2.679 66.0   F   Yes  \n",
              "182 20151  15  2.198 62.0   F   Yes  \n",
              "183 21351  19  3.345 65.5   F   Yes  \n",
              "184 22251  18  3.082 64.5   F   No   \n",
              "185 22252  16  3.387 66.5   F   No   \n",
              "186 24552  16  2.903 63.0   F   Yes  \n",
              "187 24553  15  3.004 64.0   F   Yes  \n",
              "188 37251  17  3.500 62.0   F   No   \n",
              "189 37252  16  3.674 67.5   F   No   \n",
              "190 37451  15  3.122 64.0   F   Yes  \n",
              "191 39051  15  3.330 68.5   F   Yes  \n",
              "192 40351  16  2.608 62.0   F   Yes  \n",
              "193 48152  15  2.887 63.0   F   No   \n",
              "194 55951  16  2.981 66.0   F   No   \n",
              "195 57052  15  2.264 63.0   F   Yes  \n",
              "196 61951  15  2.278 60.0   F   Yes  \n",
              "197 73751  18  2.853 60.0   F   No   \n",
              "198 75852  16  2.795 63.0   F   Yes  \n",
              "199 77151  15  3.211 66.5   F   No   "
            ]
          },
          "metadata": {}
        }
      ]
    },
    {
      "cell_type": "markdown",
      "source": [
        "## Grouped summaries with `summarize()`\n",
        "\n",
        "`summarize()` aggregates the data, creating summary statistics of groups of rows.  The code below finds the average height and FEV and number of rows (children) in the data frame:"
      ],
      "metadata": {
        "id": "eCMJCIOPkb_S"
      }
    },
    {
      "cell_type": "code",
      "source": [
        "(fev\n",
        "  %>% summarize(mean(FEV), mean(HEIGHT), n())\n",
        ")"
      ],
      "metadata": {
        "colab": {
          "base_uri": "https://localhost:8080/",
          "height": 129
        },
        "id": "KwEwgGeHkqMo",
        "outputId": "3b57ba48-2e59-445d-ebb9-496d6aa9835b"
      },
      "execution_count": null,
      "outputs": [
        {
          "output_type": "display_data",
          "data": {
            "text/html": [
              "<table class=\"dataframe\">\n",
              "<caption>A data.frame: 1 × 3</caption>\n",
              "<thead>\n",
              "\t<tr><th scope=col>mean(FEV)</th><th scope=col>mean(HEIGHT)</th><th scope=col>n()</th></tr>\n",
              "\t<tr><th scope=col>&lt;dbl&gt;</th><th scope=col>&lt;dbl&gt;</th><th scope=col>&lt;int&gt;</th></tr>\n",
              "</thead>\n",
              "<tbody>\n",
              "\t<tr><td>2.63678</td><td>61.14358</td><td>654</td></tr>\n",
              "</tbody>\n",
              "</table>\n"
            ],
            "text/markdown": "\nA data.frame: 1 × 3\n\n| mean(FEV) &lt;dbl&gt; | mean(HEIGHT) &lt;dbl&gt; | n() &lt;int&gt; |\n|---|---|---|\n| 2.63678 | 61.14358 | 654 |\n\n",
            "text/latex": "A data.frame: 1 × 3\n\\begin{tabular}{lll}\n mean(FEV) & mean(HEIGHT) & n()\\\\\n <dbl> & <dbl> & <int>\\\\\n\\hline\n\t 2.63678 & 61.14358 & 654\\\\\n\\end{tabular}\n",
            "text/plain": [
              "  mean(FEV) mean(HEIGHT) n()\n",
              "1 2.63678   61.14358     654"
            ]
          },
          "metadata": {}
        }
      ]
    },
    {
      "cell_type": "markdown",
      "source": [
        "Using `group_by()` before the `summarize()` will provide summaries by the grouping variable levels.  The code below finds the average FEV by smoking status, as well as the number of people in each smoking category:"
      ],
      "metadata": {
        "id": "XFafdmJ8kvz-"
      }
    },
    {
      "cell_type": "code",
      "source": [
        "(fev\n",
        "  %>% group_by(SMOKE)\n",
        "  %>% summarize(avg_FEV = mean(FEV), count = n())\n",
        ")"
      ],
      "metadata": {
        "colab": {
          "base_uri": "https://localhost:8080/",
          "height": 161
        },
        "id": "wj0IO3pIk_hu",
        "outputId": "f9f34954-809e-41ae-c480-8530b7dc9812"
      },
      "execution_count": null,
      "outputs": [
        {
          "output_type": "display_data",
          "data": {
            "text/html": [
              "<table class=\"dataframe\">\n",
              "<caption>A tibble: 2 × 3</caption>\n",
              "<thead>\n",
              "\t<tr><th scope=col>SMOKE</th><th scope=col>avg_FEV</th><th scope=col>count</th></tr>\n",
              "\t<tr><th scope=col>&lt;chr&gt;</th><th scope=col>&lt;dbl&gt;</th><th scope=col>&lt;int&gt;</th></tr>\n",
              "</thead>\n",
              "<tbody>\n",
              "\t<tr><td>No </td><td>2.566143</td><td>589</td></tr>\n",
              "\t<tr><td>Yes</td><td>3.276862</td><td> 65</td></tr>\n",
              "</tbody>\n",
              "</table>\n"
            ],
            "text/markdown": "\nA tibble: 2 × 3\n\n| SMOKE &lt;chr&gt; | avg_FEV &lt;dbl&gt; | count &lt;int&gt; |\n|---|---|---|\n| No  | 2.566143 | 589 |\n| Yes | 3.276862 |  65 |\n\n",
            "text/latex": "A tibble: 2 × 3\n\\begin{tabular}{lll}\n SMOKE & avg\\_FEV & count\\\\\n <chr> & <dbl> & <int>\\\\\n\\hline\n\t No  & 2.566143 & 589\\\\\n\t Yes & 3.276862 &  65\\\\\n\\end{tabular}\n",
            "text/plain": [
              "  SMOKE avg_FEV  count\n",
              "1 No    2.566143 589  \n",
              "2 Yes   3.276862  65  "
            ]
          },
          "metadata": {}
        }
      ]
    },
    {
      "cell_type": "markdown",
      "source": [
        "Another shortcut to grouped summaries uses the `.by = ` option in the `summarize()` function, doing away with `group_by()`:"
      ],
      "metadata": {
        "id": "kAZyOEjGmPLt"
      }
    },
    {
      "cell_type": "code",
      "source": [
        "(fev\n",
        "  %>% summarize(avg_FEV = mean(FEV), count = n(), .by = SMOKE)\n",
        ")"
      ],
      "metadata": {
        "colab": {
          "base_uri": "https://localhost:8080/",
          "height": 161
        },
        "id": "wb1VULi5mWNU",
        "outputId": "68819102-6eb1-4a37-cfc5-2fa85cea319e"
      },
      "execution_count": null,
      "outputs": [
        {
          "output_type": "display_data",
          "data": {
            "text/html": [
              "<table class=\"dataframe\">\n",
              "<caption>A data.frame: 2 × 3</caption>\n",
              "<thead>\n",
              "\t<tr><th scope=col>SMOKE</th><th scope=col>avg_FEV</th><th scope=col>count</th></tr>\n",
              "\t<tr><th scope=col>&lt;chr&gt;</th><th scope=col>&lt;dbl&gt;</th><th scope=col>&lt;int&gt;</th></tr>\n",
              "</thead>\n",
              "<tbody>\n",
              "\t<tr><td>No </td><td>2.566143</td><td>589</td></tr>\n",
              "\t<tr><td>Yes</td><td>3.276862</td><td> 65</td></tr>\n",
              "</tbody>\n",
              "</table>\n"
            ],
            "text/markdown": "\nA data.frame: 2 × 3\n\n| SMOKE &lt;chr&gt; | avg_FEV &lt;dbl&gt; | count &lt;int&gt; |\n|---|---|---|\n| No  | 2.566143 | 589 |\n| Yes | 3.276862 |  65 |\n\n",
            "text/latex": "A data.frame: 2 × 3\n\\begin{tabular}{lll}\n SMOKE & avg\\_FEV & count\\\\\n <chr> & <dbl> & <int>\\\\\n\\hline\n\t No  & 2.566143 & 589\\\\\n\t Yes & 3.276862 &  65\\\\\n\\end{tabular}\n",
            "text/plain": [
              "  SMOKE avg_FEV  count\n",
              "1 No    2.566143 589  \n",
              "2 Yes   3.276862  65  "
            ]
          },
          "metadata": {}
        }
      ]
    },
    {
      "cell_type": "markdown",
      "source": [
        "## Task\n",
        "\n",
        "Above we used a rather roundabout way with vector creation to count the number of teens in the data set.  Use one chain of `dplyr()` verbs to find the number of teens and the number of non-teens in the data set."
      ],
      "metadata": {
        "id": "8JrZQbIqcyh0"
      }
    },
    {
      "cell_type": "code",
      "source": [],
      "metadata": {
        "id": "jNzP6L8QzzeM"
      },
      "execution_count": null,
      "outputs": []
    },
    {
      "cell_type": "markdown",
      "source": [
        "## Task\n",
        "\n",
        "Use one chain of `dplyr` verbs to find and compare the average FEV of people who are at least 5 feet (60 inches) tall to people who are less than 5 feet tall.  "
      ],
      "metadata": {
        "id": "xqdYzVPFmVWV"
      }
    },
    {
      "cell_type": "code",
      "source": [],
      "metadata": {
        "id": "Dc0iHXiSQ6Po"
      },
      "execution_count": null,
      "outputs": []
    }
  ]
}